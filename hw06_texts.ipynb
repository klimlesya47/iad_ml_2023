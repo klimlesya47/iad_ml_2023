{
  "cells": [
    {
      "cell_type": "markdown",
      "metadata": {
        "id": "Ffq6A2-ifzAA"
      },
      "source": [
        "# Интеллектуальный анализ данных – весна 2024\n",
        "# Домашнее задание 6: классификация текстов"
      ]
    },
    {
      "cell_type": "markdown",
      "source": [
        "Правила:\n",
        "\n",
        "\n",
        "\n",
        "*   Домашнее задание оценивается в 10 баллов.\n",
        "*   Можно использовать без доказательства любые результаты, встречавшиеся на лекциях или семинарах по курсу, если получение этих результатов не является вопросом задания.\n",
        "*  Можно использовать любые свободные источники с *обязательным* указанием ссылки на них.\n",
        "*  Плагиат не допускается. При обнаружении случаев списывания, 0 за работу выставляется всем участникам нарушения, даже если можно установить, кто у кого списал.\n",
        "*  Старайтесь сделать код как можно более оптимальным. В частности, будет штрафоваться использование циклов в тех случаях, когда операцию можно совершить при помощи инструментов библиотек, о которых рассказывалось в курсе."
      ],
      "metadata": {
        "id": "EPcxtekTA1Sm"
      }
    },
    {
      "cell_type": "markdown",
      "metadata": {
        "id": "itRtFtrOf0_b"
      },
      "source": [
        "В этом домашнем задании вам предстоит построить классификатор текстов.\n",
        "\n",
        "Будем предсказывать эмоциональную окраску твиттов о коронавирусе.\n",
        "\n"
      ]
    },
    {
      "cell_type": "code",
      "execution_count": 1,
      "metadata": {
        "id": "tNGRVO7_g9mz"
      },
      "outputs": [],
      "source": [
        "import numpy as np\n",
        "import pandas as pd\n",
        "from typing import  List\n",
        "import matplotlib.pyplot as plt\n",
        "import seaborn as sns\n",
        "from string import punctuation"
      ]
    },
    {
      "cell_type": "code",
      "execution_count": 2,
      "metadata": {
        "id": "zOy8iHJQg_Ss",
        "colab": {
          "base_uri": "https://localhost:8080/",
          "height": 348
        },
        "outputId": "d4856f24-3132-4efd-bf04-fb1bb86b97ff"
      },
      "outputs": [
        {
          "output_type": "execute_result",
          "data": {
            "text/plain": [
              "       UserName  ScreenName                        Location     TweetAt  \\\n",
              "19331     27331       72283            Colorado Springs, CO  26-03-2020   \n",
              "22771     31624       76576         Cobham, Surrey KT11 3NE  03-04-2020   \n",
              "25881     35497       80449  periphery always the periphery  07-04-2020   \n",
              "23304     32274       77226             Burlington, Ontario  04-04-2020   \n",
              "\n",
              "                                           OriginalTweet           Sentiment  \n",
              "19331  Gas prices in Colorado Springs could fall anot...            Negative  \n",
              "22771  We couldn't have put it better. From team #NHS...  Extremely Positive  \n",
              "25881  The collective response to the pandemic from p...  Extremely Negative  \n",
              "23304  Cant believe this has to be said but I keep he...  Extremely Positive  "
            ],
            "text/html": [
              "\n",
              "  <div id=\"df-9ed14e75-7f53-44b4-a3cc-164b53b5d245\" class=\"colab-df-container\">\n",
              "    <div>\n",
              "<style scoped>\n",
              "    .dataframe tbody tr th:only-of-type {\n",
              "        vertical-align: middle;\n",
              "    }\n",
              "\n",
              "    .dataframe tbody tr th {\n",
              "        vertical-align: top;\n",
              "    }\n",
              "\n",
              "    .dataframe thead th {\n",
              "        text-align: right;\n",
              "    }\n",
              "</style>\n",
              "<table border=\"1\" class=\"dataframe\">\n",
              "  <thead>\n",
              "    <tr style=\"text-align: right;\">\n",
              "      <th></th>\n",
              "      <th>UserName</th>\n",
              "      <th>ScreenName</th>\n",
              "      <th>Location</th>\n",
              "      <th>TweetAt</th>\n",
              "      <th>OriginalTweet</th>\n",
              "      <th>Sentiment</th>\n",
              "    </tr>\n",
              "  </thead>\n",
              "  <tbody>\n",
              "    <tr>\n",
              "      <th>19331</th>\n",
              "      <td>27331</td>\n",
              "      <td>72283</td>\n",
              "      <td>Colorado Springs, CO</td>\n",
              "      <td>26-03-2020</td>\n",
              "      <td>Gas prices in Colorado Springs could fall anot...</td>\n",
              "      <td>Negative</td>\n",
              "    </tr>\n",
              "    <tr>\n",
              "      <th>22771</th>\n",
              "      <td>31624</td>\n",
              "      <td>76576</td>\n",
              "      <td>Cobham, Surrey KT11 3NE</td>\n",
              "      <td>03-04-2020</td>\n",
              "      <td>We couldn't have put it better. From team #NHS...</td>\n",
              "      <td>Extremely Positive</td>\n",
              "    </tr>\n",
              "    <tr>\n",
              "      <th>25881</th>\n",
              "      <td>35497</td>\n",
              "      <td>80449</td>\n",
              "      <td>periphery always the periphery</td>\n",
              "      <td>07-04-2020</td>\n",
              "      <td>The collective response to the pandemic from p...</td>\n",
              "      <td>Extremely Negative</td>\n",
              "    </tr>\n",
              "    <tr>\n",
              "      <th>23304</th>\n",
              "      <td>32274</td>\n",
              "      <td>77226</td>\n",
              "      <td>Burlington, Ontario</td>\n",
              "      <td>04-04-2020</td>\n",
              "      <td>Cant believe this has to be said but I keep he...</td>\n",
              "      <td>Extremely Positive</td>\n",
              "    </tr>\n",
              "  </tbody>\n",
              "</table>\n",
              "</div>\n",
              "    <div class=\"colab-df-buttons\">\n",
              "\n",
              "  <div class=\"colab-df-container\">\n",
              "    <button class=\"colab-df-convert\" onclick=\"convertToInteractive('df-9ed14e75-7f53-44b4-a3cc-164b53b5d245')\"\n",
              "            title=\"Convert this dataframe to an interactive table.\"\n",
              "            style=\"display:none;\">\n",
              "\n",
              "  <svg xmlns=\"http://www.w3.org/2000/svg\" height=\"24px\" viewBox=\"0 -960 960 960\">\n",
              "    <path d=\"M120-120v-720h720v720H120Zm60-500h600v-160H180v160Zm220 220h160v-160H400v160Zm0 220h160v-160H400v160ZM180-400h160v-160H180v160Zm440 0h160v-160H620v160ZM180-180h160v-160H180v160Zm440 0h160v-160H620v160Z\"/>\n",
              "  </svg>\n",
              "    </button>\n",
              "\n",
              "  <style>\n",
              "    .colab-df-container {\n",
              "      display:flex;\n",
              "      gap: 12px;\n",
              "    }\n",
              "\n",
              "    .colab-df-convert {\n",
              "      background-color: #E8F0FE;\n",
              "      border: none;\n",
              "      border-radius: 50%;\n",
              "      cursor: pointer;\n",
              "      display: none;\n",
              "      fill: #1967D2;\n",
              "      height: 32px;\n",
              "      padding: 0 0 0 0;\n",
              "      width: 32px;\n",
              "    }\n",
              "\n",
              "    .colab-df-convert:hover {\n",
              "      background-color: #E2EBFA;\n",
              "      box-shadow: 0px 1px 2px rgba(60, 64, 67, 0.3), 0px 1px 3px 1px rgba(60, 64, 67, 0.15);\n",
              "      fill: #174EA6;\n",
              "    }\n",
              "\n",
              "    .colab-df-buttons div {\n",
              "      margin-bottom: 4px;\n",
              "    }\n",
              "\n",
              "    [theme=dark] .colab-df-convert {\n",
              "      background-color: #3B4455;\n",
              "      fill: #D2E3FC;\n",
              "    }\n",
              "\n",
              "    [theme=dark] .colab-df-convert:hover {\n",
              "      background-color: #434B5C;\n",
              "      box-shadow: 0px 1px 3px 1px rgba(0, 0, 0, 0.15);\n",
              "      filter: drop-shadow(0px 1px 2px rgba(0, 0, 0, 0.3));\n",
              "      fill: #FFFFFF;\n",
              "    }\n",
              "  </style>\n",
              "\n",
              "    <script>\n",
              "      const buttonEl =\n",
              "        document.querySelector('#df-9ed14e75-7f53-44b4-a3cc-164b53b5d245 button.colab-df-convert');\n",
              "      buttonEl.style.display =\n",
              "        google.colab.kernel.accessAllowed ? 'block' : 'none';\n",
              "\n",
              "      async function convertToInteractive(key) {\n",
              "        const element = document.querySelector('#df-9ed14e75-7f53-44b4-a3cc-164b53b5d245');\n",
              "        const dataTable =\n",
              "          await google.colab.kernel.invokeFunction('convertToInteractive',\n",
              "                                                    [key], {});\n",
              "        if (!dataTable) return;\n",
              "\n",
              "        const docLinkHtml = 'Like what you see? Visit the ' +\n",
              "          '<a target=\"_blank\" href=https://colab.research.google.com/notebooks/data_table.ipynb>data table notebook</a>'\n",
              "          + ' to learn more about interactive tables.';\n",
              "        element.innerHTML = '';\n",
              "        dataTable['output_type'] = 'display_data';\n",
              "        await google.colab.output.renderOutput(dataTable, element);\n",
              "        const docLink = document.createElement('div');\n",
              "        docLink.innerHTML = docLinkHtml;\n",
              "        element.appendChild(docLink);\n",
              "      }\n",
              "    </script>\n",
              "  </div>\n",
              "\n",
              "\n",
              "<div id=\"df-53fc6b6b-2acf-4d2d-93b6-2fb7c72e437c\">\n",
              "  <button class=\"colab-df-quickchart\" onclick=\"quickchart('df-53fc6b6b-2acf-4d2d-93b6-2fb7c72e437c')\"\n",
              "            title=\"Suggest charts\"\n",
              "            style=\"display:none;\">\n",
              "\n",
              "<svg xmlns=\"http://www.w3.org/2000/svg\" height=\"24px\"viewBox=\"0 0 24 24\"\n",
              "     width=\"24px\">\n",
              "    <g>\n",
              "        <path d=\"M19 3H5c-1.1 0-2 .9-2 2v14c0 1.1.9 2 2 2h14c1.1 0 2-.9 2-2V5c0-1.1-.9-2-2-2zM9 17H7v-7h2v7zm4 0h-2V7h2v10zm4 0h-2v-4h2v4z\"/>\n",
              "    </g>\n",
              "</svg>\n",
              "  </button>\n",
              "\n",
              "<style>\n",
              "  .colab-df-quickchart {\n",
              "      --bg-color: #E8F0FE;\n",
              "      --fill-color: #1967D2;\n",
              "      --hover-bg-color: #E2EBFA;\n",
              "      --hover-fill-color: #174EA6;\n",
              "      --disabled-fill-color: #AAA;\n",
              "      --disabled-bg-color: #DDD;\n",
              "  }\n",
              "\n",
              "  [theme=dark] .colab-df-quickchart {\n",
              "      --bg-color: #3B4455;\n",
              "      --fill-color: #D2E3FC;\n",
              "      --hover-bg-color: #434B5C;\n",
              "      --hover-fill-color: #FFFFFF;\n",
              "      --disabled-bg-color: #3B4455;\n",
              "      --disabled-fill-color: #666;\n",
              "  }\n",
              "\n",
              "  .colab-df-quickchart {\n",
              "    background-color: var(--bg-color);\n",
              "    border: none;\n",
              "    border-radius: 50%;\n",
              "    cursor: pointer;\n",
              "    display: none;\n",
              "    fill: var(--fill-color);\n",
              "    height: 32px;\n",
              "    padding: 0;\n",
              "    width: 32px;\n",
              "  }\n",
              "\n",
              "  .colab-df-quickchart:hover {\n",
              "    background-color: var(--hover-bg-color);\n",
              "    box-shadow: 0 1px 2px rgba(60, 64, 67, 0.3), 0 1px 3px 1px rgba(60, 64, 67, 0.15);\n",
              "    fill: var(--button-hover-fill-color);\n",
              "  }\n",
              "\n",
              "  .colab-df-quickchart-complete:disabled,\n",
              "  .colab-df-quickchart-complete:disabled:hover {\n",
              "    background-color: var(--disabled-bg-color);\n",
              "    fill: var(--disabled-fill-color);\n",
              "    box-shadow: none;\n",
              "  }\n",
              "\n",
              "  .colab-df-spinner {\n",
              "    border: 2px solid var(--fill-color);\n",
              "    border-color: transparent;\n",
              "    border-bottom-color: var(--fill-color);\n",
              "    animation:\n",
              "      spin 1s steps(1) infinite;\n",
              "  }\n",
              "\n",
              "  @keyframes spin {\n",
              "    0% {\n",
              "      border-color: transparent;\n",
              "      border-bottom-color: var(--fill-color);\n",
              "      border-left-color: var(--fill-color);\n",
              "    }\n",
              "    20% {\n",
              "      border-color: transparent;\n",
              "      border-left-color: var(--fill-color);\n",
              "      border-top-color: var(--fill-color);\n",
              "    }\n",
              "    30% {\n",
              "      border-color: transparent;\n",
              "      border-left-color: var(--fill-color);\n",
              "      border-top-color: var(--fill-color);\n",
              "      border-right-color: var(--fill-color);\n",
              "    }\n",
              "    40% {\n",
              "      border-color: transparent;\n",
              "      border-right-color: var(--fill-color);\n",
              "      border-top-color: var(--fill-color);\n",
              "    }\n",
              "    60% {\n",
              "      border-color: transparent;\n",
              "      border-right-color: var(--fill-color);\n",
              "    }\n",
              "    80% {\n",
              "      border-color: transparent;\n",
              "      border-right-color: var(--fill-color);\n",
              "      border-bottom-color: var(--fill-color);\n",
              "    }\n",
              "    90% {\n",
              "      border-color: transparent;\n",
              "      border-bottom-color: var(--fill-color);\n",
              "    }\n",
              "  }\n",
              "</style>\n",
              "\n",
              "  <script>\n",
              "    async function quickchart(key) {\n",
              "      const quickchartButtonEl =\n",
              "        document.querySelector('#' + key + ' button');\n",
              "      quickchartButtonEl.disabled = true;  // To prevent multiple clicks.\n",
              "      quickchartButtonEl.classList.add('colab-df-spinner');\n",
              "      try {\n",
              "        const charts = await google.colab.kernel.invokeFunction(\n",
              "            'suggestCharts', [key], {});\n",
              "      } catch (error) {\n",
              "        console.error('Error during call to suggestCharts:', error);\n",
              "      }\n",
              "      quickchartButtonEl.classList.remove('colab-df-spinner');\n",
              "      quickchartButtonEl.classList.add('colab-df-quickchart-complete');\n",
              "    }\n",
              "    (() => {\n",
              "      let quickchartButtonEl =\n",
              "        document.querySelector('#df-53fc6b6b-2acf-4d2d-93b6-2fb7c72e437c button');\n",
              "      quickchartButtonEl.style.display =\n",
              "        google.colab.kernel.accessAllowed ? 'block' : 'none';\n",
              "    })();\n",
              "  </script>\n",
              "</div>\n",
              "    </div>\n",
              "  </div>\n"
            ],
            "application/vnd.google.colaboratory.intrinsic+json": {
              "type": "dataframe",
              "repr_error": "0"
            }
          },
          "metadata": {},
          "execution_count": 2
        }
      ],
      "source": [
        "df = pd.read_csv('https://github.com/hse-ds/iad-intro-ds/raw/master/2024/homeworks/hw06_texts/tweets_coronavirus.csv', encoding='latin-1')\n",
        "df.sample(4)"
      ]
    },
    {
      "cell_type": "markdown",
      "metadata": {
        "id": "m2OiDog9ZBlS"
      },
      "source": [
        "Для каждого твитта указано:\n",
        "\n",
        "\n",
        "*   UserName - имя пользователя, заменено на целое число для анонимности\n",
        "*   ScreenName - отображающееся имя пользователя, заменено на целое число для анонимности\n",
        "*   Location - местоположение\n",
        "*   TweetAt - дата создания твитта\n",
        "*   OriginalTweet - текст твитта\n",
        "*   Sentiment - эмоциональная окраска твитта (целевая переменная)\n",
        "\n"
      ]
    },
    {
      "cell_type": "markdown",
      "metadata": {
        "id": "pZTMseDkhTC7"
      },
      "source": [
        "## Задание 1 Подготовка (0.5 балла)"
      ]
    },
    {
      "cell_type": "markdown",
      "metadata": {
        "id": "Xx2-odn9hdAW"
      },
      "source": [
        "Целевая переменная находится в колонке `Sentiment`.  Преобразуйте ее таким образом, чтобы она стала бинарной: 1 - если у твитта положительная эмоциональная окраска и 0 - если отрицательная."
      ]
    },
    {
      "cell_type": "code",
      "execution_count": 3,
      "metadata": {
        "id": "ZaQKQ1zEjP15",
        "colab": {
          "base_uri": "https://localhost:8080/"
        },
        "outputId": "7a4d633c-cb55-443a-981f-3bc1a33fa0d3"
      },
      "outputs": [
        {
          "output_type": "execute_result",
          "data": {
            "text/plain": [
              "array(['Positive', 'Extremely Negative', 'Negative', 'Extremely Positive'],\n",
              "      dtype=object)"
            ]
          },
          "metadata": {},
          "execution_count": 3
        }
      ],
      "source": [
        "df['Sentiment'].unique()"
      ]
    },
    {
      "cell_type": "code",
      "source": [
        "mark = {'Positive':1, 'Extremely Positive':1, 'Negative':0, 'Extremely Negative':0}\n",
        "df['Sentiment'] = df['Sentiment'].map(mark)"
      ],
      "metadata": {
        "id": "iFwe3rDeBIOw"
      },
      "execution_count": 4,
      "outputs": []
    },
    {
      "cell_type": "markdown",
      "metadata": {
        "id": "pGq1FxJ-kBo5"
      },
      "source": [
        "Сбалансированы ли классы?"
      ]
    },
    {
      "cell_type": "code",
      "execution_count": 5,
      "metadata": {
        "id": "a7gdNtxckK5V",
        "colab": {
          "base_uri": "https://localhost:8080/"
        },
        "outputId": "88c0e33b-161a-4ee2-cd24-0494a3a9a612"
      },
      "outputs": [
        {
          "output_type": "stream",
          "name": "stdout",
          "text": [
            "positive - 54.0% \n",
            "nevative - 46.0%\n"
          ]
        }
      ],
      "source": [
        "positive = df['Sentiment'].value_counts()[1]/len(df['Sentiment'])*100\n",
        "nevative = df['Sentiment'].value_counts()[0]/len(df['Sentiment'])*100\n",
        "print(f'positive - {positive:.1f}% \\nnevative - {nevative:.1f}%')"
      ]
    },
    {
      "cell_type": "markdown",
      "metadata": {
        "id": "Ng8BCelMkWb0"
      },
      "source": [
        "**Ответ:** Да\n",
        "\n"
      ]
    },
    {
      "cell_type": "markdown",
      "metadata": {
        "id": "qmSIBSsLk5Zz"
      },
      "source": [
        "Выведете на экран информацию о пропусках в данных. Если пропуски присутствуют заполните их строкой 'Unknown'."
      ]
    },
    {
      "cell_type": "code",
      "execution_count": 6,
      "metadata": {
        "id": "UhUVRkR5kxa7",
        "colab": {
          "base_uri": "https://localhost:8080/"
        },
        "outputId": "7efdffc1-557b-4b76-e150-d8bf115aa053"
      },
      "outputs": [
        {
          "output_type": "stream",
          "name": "stdout",
          "text": [
            "<class 'pandas.core.frame.DataFrame'>\n",
            "RangeIndex: 33444 entries, 0 to 33443\n",
            "Data columns (total 6 columns):\n",
            " #   Column         Non-Null Count  Dtype \n",
            "---  ------         --------------  ----- \n",
            " 0   UserName       33444 non-null  int64 \n",
            " 1   ScreenName     33444 non-null  int64 \n",
            " 2   Location       26395 non-null  object\n",
            " 3   TweetAt        33444 non-null  object\n",
            " 4   OriginalTweet  33444 non-null  object\n",
            " 5   Sentiment      33444 non-null  int64 \n",
            "dtypes: int64(3), object(3)\n",
            "memory usage: 1.5+ MB\n"
          ]
        }
      ],
      "source": [
        "df.info()"
      ]
    },
    {
      "cell_type": "code",
      "source": [
        "df['Location'] = df['Location'].fillna('Unknown')\n",
        "df.info()"
      ],
      "metadata": {
        "colab": {
          "base_uri": "https://localhost:8080/"
        },
        "id": "39nK289KEni7",
        "outputId": "48e4b3fb-6aa9-4d0b-cd46-addac42fde13"
      },
      "execution_count": 7,
      "outputs": [
        {
          "output_type": "stream",
          "name": "stdout",
          "text": [
            "<class 'pandas.core.frame.DataFrame'>\n",
            "RangeIndex: 33444 entries, 0 to 33443\n",
            "Data columns (total 6 columns):\n",
            " #   Column         Non-Null Count  Dtype \n",
            "---  ------         --------------  ----- \n",
            " 0   UserName       33444 non-null  int64 \n",
            " 1   ScreenName     33444 non-null  int64 \n",
            " 2   Location       33444 non-null  object\n",
            " 3   TweetAt        33444 non-null  object\n",
            " 4   OriginalTweet  33444 non-null  object\n",
            " 5   Sentiment      33444 non-null  int64 \n",
            "dtypes: int64(3), object(3)\n",
            "memory usage: 1.5+ MB\n"
          ]
        }
      ]
    },
    {
      "cell_type": "markdown",
      "metadata": {
        "id": "1tzt27tfjUpq"
      },
      "source": [
        "Разделите данные на обучающие и тестовые в соотношении 7 : 3 и `random_state=0`"
      ]
    },
    {
      "cell_type": "code",
      "execution_count": 8,
      "metadata": {
        "id": "xSLOA9tIj9Z6"
      },
      "outputs": [],
      "source": [
        "from sklearn.model_selection import train_test_split\n",
        "\n",
        "train, test = train_test_split(df, test_size = 0.3, random_state=0)"
      ]
    },
    {
      "cell_type": "markdown",
      "metadata": {
        "id": "J9RrPUsJlL60"
      },
      "source": [
        "## Задание 2 Токенизация (3 балла)"
      ]
    },
    {
      "cell_type": "markdown",
      "metadata": {
        "id": "2Dz_b7Xopc_R"
      },
      "source": [
        "Постройте словарь на основе обучающей выборки и посчитайте количество встреч каждого токена с использованием самой простой токенизации - деления текстов по пробельным символам и приведение токенов в нижний регистр"
      ]
    },
    {
      "cell_type": "code",
      "source": [
        "import nltk\n",
        "nltk.download('punkt')\n",
        "from collections import Counter"
      ],
      "metadata": {
        "id": "wWCbS7ztiUDv",
        "colab": {
          "base_uri": "https://localhost:8080/"
        },
        "outputId": "4197711e-a327-4b40-e786-bb459d16517d"
      },
      "execution_count": 14,
      "outputs": [
        {
          "output_type": "stream",
          "name": "stderr",
          "text": [
            "[nltk_data] Downloading package punkt to /root/nltk_data...\n",
            "[nltk_data]   Package punkt is already up-to-date!\n"
          ]
        }
      ]
    },
    {
      "cell_type": "code",
      "source": [
        "dictionary = Counter()\n",
        "for text in train['OriginalTweet']:\n",
        "    tokens = text.lower().split()\n",
        "    dictionary.update(tokens)"
      ],
      "metadata": {
        "id": "8pLKgfcBo-pm"
      },
      "execution_count": 43,
      "outputs": []
    },
    {
      "cell_type": "markdown",
      "metadata": {
        "id": "Pe0h2Jqkpnao"
      },
      "source": [
        "Какой размер словаря получился?"
      ]
    },
    {
      "cell_type": "code",
      "source": [
        "len(dictionary)"
      ],
      "metadata": {
        "colab": {
          "base_uri": "https://localhost:8080/"
        },
        "id": "wyPUGwBUga-z",
        "outputId": "41be6d42-e46d-49d2-9328-d1fd0b6e5fe5"
      },
      "execution_count": 48,
      "outputs": [
        {
          "output_type": "execute_result",
          "data": {
            "text/plain": [
              "79755"
            ]
          },
          "metadata": {},
          "execution_count": 48
        }
      ]
    },
    {
      "cell_type": "markdown",
      "metadata": {
        "id": "0d2G1Z-Qpqkd"
      },
      "source": [
        "Выведите 10 самых популярных токенов с количеством встреч каждого из них. Объясните, почему именно эти токены в топе"
      ]
    },
    {
      "cell_type": "code",
      "execution_count": 49,
      "metadata": {
        "id": "Impi32a_pssg",
        "colab": {
          "base_uri": "https://localhost:8080/"
        },
        "outputId": "4ffdd9ef-c4db-41c4-bd18-c9cd7afefccd"
      },
      "outputs": [
        {
          "output_type": "stream",
          "name": "stdout",
          "text": [
            "[('are', 7050), ('is', 7383), ('#coronavirus', 8223), ('for', 8566), ('in', 11198), ('a', 11737), ('of', 13012), ('and', 14684), ('to', 23373), ('the', 26815)]\n"
          ]
        }
      ],
      "source": [
        "dictionary = sorted(dictionary.items(), key=lambda x: x[1])\n",
        "print(dictionary[-10:])\n",
        "dictionary = dict(dictionary)"
      ]
    },
    {
      "cell_type": "markdown",
      "metadata": {
        "id": "ZtuJCD0ApuFd"
      },
      "source": [
        "**Ответ:** Предлоги, артикли, специальные символы: #, @. Их использование в речи происходит чаще. Выделяется \"#coronavirus\", что является особенностью этих данных."
      ]
    },
    {
      "cell_type": "markdown",
      "metadata": {
        "id": "T7DTQDkWsVYp"
      },
      "source": [
        "Удалите стоп-слова из словаря и выведите новый топ-10 токенов (и количество встреч) по популярности.  Что можно сказать  о нем?"
      ]
    },
    {
      "cell_type": "code",
      "source": [
        "import nltk\n",
        "from nltk.corpus import stopwords\n",
        "nltk.download('stopwords')"
      ],
      "metadata": {
        "colab": {
          "base_uri": "https://localhost:8080/"
        },
        "id": "-Fny8mkMqfJE",
        "outputId": "77e14448-2cac-4940-8b71-09a90dccfa45"
      },
      "execution_count": 50,
      "outputs": [
        {
          "output_type": "stream",
          "name": "stderr",
          "text": [
            "[nltk_data] Downloading package stopwords to /root/nltk_data...\n",
            "[nltk_data]   Package stopwords is already up-to-date!\n"
          ]
        },
        {
          "output_type": "execute_result",
          "data": {
            "text/plain": [
              "True"
            ]
          },
          "metadata": {},
          "execution_count": 50
        }
      ]
    },
    {
      "cell_type": "code",
      "source": [
        "dictionary = Counter()\n",
        "for text in train['OriginalTweet']:\n",
        "    tokens = text.lower().split()\n",
        "    tokens = [token for token in tokens if not token in set(stopwords.words('english'))]\n",
        "    dictionary.update(tokens)"
      ],
      "metadata": {
        "id": "iB5Q-TzLxd4e"
      },
      "execution_count": 51,
      "outputs": []
    },
    {
      "cell_type": "code",
      "source": [
        "dictionary = sorted(dictionary.items(), key=lambda x: x[1])\n",
        "print(dictionary[-10:])"
      ],
      "metadata": {
        "colab": {
          "base_uri": "https://localhost:8080/"
        },
        "id": "blSkT6gBqpNg",
        "outputId": "2bec601f-4fa5-4b9d-d97d-fd7f1542c694"
      },
      "execution_count": 52,
      "outputs": [
        {
          "output_type": "stream",
          "name": "stdout",
          "text": [
            "[('&amp;', 2314), ('#covid19', 2471), ('store', 3155), ('covid-19', 3173), ('people', 3175), ('supermarket', 3288), ('grocery', 3469), ('food', 3820), ('prices', 3891), ('#coronavirus', 8223)]\n"
          ]
        }
      ]
    },
    {
      "cell_type": "markdown",
      "metadata": {
        "id": "LZH0x2Lzs-Dh"
      },
      "source": [
        "**Ответ:**  Сейчас вывод уже лучше, можно понять, о чем вообще твитты датасета: короновирус, проблемы людей в это время, ситуация с ценами и едой."
      ]
    },
    {
      "cell_type": "markdown",
      "metadata": {
        "id": "TKSGRyI-uor0"
      },
      "source": [
        "Также выведите 20 самых непопулярных слов (если самых непопулярных слов больше выведите любые 20 из них) Почему эти токены непопулярны, требуется ли как-то дополнительно работать с ними?"
      ]
    },
    {
      "cell_type": "code",
      "execution_count": 53,
      "metadata": {
        "id": "moArbwfvun9t",
        "colab": {
          "base_uri": "https://localhost:8080/"
        },
        "outputId": "8b2f8fb1-670c-4a29-baf4-89e37807d993"
      },
      "outputs": [
        {
          "output_type": "stream",
          "name": "stdout",
          "text": [
            "[('https://t.co/1m881cwfuv', 1), ('happy..', 1), ('https://t.co/z0intks34x', 1), ('mnuchinã\\x82â\\x92s', 1), ('brink.', 1), ('https://t.co/jmobv8z0u0', 1), (\"university's\", 1), ('teaching.)', 1), ('@catholicpres', 1), ('@catholicuniv', 1), ('https://t.co/evqby035wf', 1), ('https://t.co/riqrhxxeim', 1), ('@@ballardspahrll', 1), ('#aca', 1), ('easier...take', 1), ('ã\\x82â\\x93necessaryã\\x82â\\x94', 1), ('https://t.co/0fmsmlgepm', 1), ('husted:', 1), ('irishman', 1), ('#happystpatricksday!', 1)]\n"
          ]
        }
      ],
      "source": [
        "print(dictionary[:20])"
      ]
    },
    {
      "cell_type": "markdown",
      "metadata": {
        "id": "uRp3J1gQunlR"
      },
      "source": [
        "**Ответ:** Единождое упоминание в твитах, ссылки, хэштега, автоматически делает токен не важным для определения тональности.\n",
        "\n"
      ]
    },
    {
      "cell_type": "markdown",
      "metadata": {
        "id": "wx9LQOSPzvjV"
      },
      "source": [
        "Теперь воспользуемся токенайзером получше - TweetTokenizer из библиотеки nltk. Примените его и посмотрите на топ-10 популярных слов. Чем он отличается от топа, который получался раньше? Почему?"
      ]
    },
    {
      "cell_type": "code",
      "execution_count": 54,
      "metadata": {
        "id": "2G1UkyVxzvFY"
      },
      "outputs": [],
      "source": [
        "from nltk.tokenize import TweetTokenizer\n",
        "\n",
        "dictionary = Counter()\n",
        "for text in train['OriginalTweet']:\n",
        "    tokens = TweetTokenizer().tokenize(text.lower())\n",
        "    dictionary.update(tokens)"
      ]
    },
    {
      "cell_type": "code",
      "source": [
        "dictionary = sorted(dictionary.items(), key=lambda x: x[1])\n",
        "print(dictionary[-10:])"
      ],
      "metadata": {
        "colab": {
          "base_uri": "https://localhost:8080/"
        },
        "id": "gQ_TYi1Ju7jg",
        "outputId": "616e2de0-dd17-47ee-ac0d-5ba6abd4761f"
      },
      "execution_count": 55,
      "outputs": [
        {
          "output_type": "stream",
          "name": "stdout",
          "text": [
            "[('#coronavirus', 8808), ('?', 9524), ('in', 11348), ('a', 11891), ('of', 13044), ('and', 14825), (',', 17571), ('to', 23478), ('.', 24118), ('the', 26993)]\n"
          ]
        }
      ]
    },
    {
      "cell_type": "markdown",
      "metadata": {
        "id": "50eVUnJN1Zxl"
      },
      "source": [
        "**Ответ:** Токенайзер отделил от слов знаки препенания, которые нам не принесут пользы, их нужно удалить"
      ]
    },
    {
      "cell_type": "markdown",
      "metadata": {
        "id": "1gqQgiMs11bs"
      },
      "source": [
        "Удалите из словаря стоп-слова и пунктуацию, посмотрите на новый топ-10 слов с количеством встреч, есть ли теперь в нем что-то не похожее на слова?"
      ]
    },
    {
      "cell_type": "code",
      "execution_count": 56,
      "metadata": {
        "id": "0yHWdFrp0Mup",
        "colab": {
          "base_uri": "https://localhost:8080/"
        },
        "outputId": "9995bee9-97a1-4a24-ee5e-3bb15c4d762b"
      },
      "outputs": [
        {
          "output_type": "stream",
          "name": "stdout",
          "text": [
            "[('supermarket', 3805), ('store', 3877), ('food', 4367), ('\\x92', 4372), ('prices', 4601), ('covid', 6253), ('19', 7167), ('\\x82', 7311), ('â', 7415), ('#coronavirus', 8808)]\n"
          ]
        }
      ],
      "source": [
        "from string import punctuation\n",
        "dictionary = Counter()\n",
        "for text in train['OriginalTweet']:\n",
        "    tokens = TweetTokenizer().tokenize(text.lower())\n",
        "    tokens = [token for token in tokens if not token in set(stopwords.words('english')) and not token in punctuation]\n",
        "    dictionary.update(tokens)\n",
        "dictionary = sorted(dictionary.items(), key=lambda x: x[1])\n",
        "print(dictionary[-10:])"
      ]
    },
    {
      "cell_type": "markdown",
      "metadata": {
        "id": "8ZJqXELP_Yxy"
      },
      "source": [
        "**Ответ:**  Остались одиночные символы, символы юникода"
      ]
    },
    {
      "cell_type": "markdown",
      "metadata": {
        "id": "rzXjMsSB_kXB"
      },
      "source": [
        "Удалите из словаря токены из одного символа, с позицией в таблице Unicode 128 и более (`ord(x) >= 128`)\n",
        "\n",
        "Выведите топ-10 самых популярных и топ-20 непопулярных слов. Чем полученные топы отличаются от итоговых топов, полученных при использовании токенизации по пробелам? Что теперь лучше, а что хуже?"
      ]
    },
    {
      "cell_type": "code",
      "execution_count": 57,
      "metadata": {
        "id": "1695hlkS_1-J",
        "colab": {
          "base_uri": "https://localhost:8080/"
        },
        "outputId": "ca90ba66-dc62-4371-cc68-79e84d6b2e8e"
      },
      "outputs": [
        {
          "output_type": "stream",
          "name": "stdout",
          "text": [
            "[('#covid19', 2589), ('people', 3463), ('grocery', 3523), ('supermarket', 3805), ('store', 3877), ('food', 4367), ('prices', 4601), ('covid', 6253), ('19', 7167), ('#coronavirus', 8808)]\n",
            "[('https://t.co/1m881cwfuv', 1), ('https://t.co/z0intks34x', 1), ('mnuchinã', 1), ('https://t.co/jmobv8z0u0', 1), (\"university's\", 1), ('@catholicpres', 1), ('@catholicuniv', 1), ('https://t.co/evqby035wf', 1), ('https://t.co/riqrhxxeim', 1), ('@ballardspahrll', 1), ('#aca', 1), ('https://t.co/0fmsmlgepm', 1), ('irishman', 1), ('#happystpatricksday', 1), ('guiness', 1), ('https://t.co/18v0pyhwb7', 1), ('https://t.co/ls0g86i8pu', 1), ('https://t.co/ofvkejff23', 1), ('https://t.co/xoodgd2ulx', 1), ('lifestyles', 1)]\n"
          ]
        }
      ],
      "source": [
        "dictionary = Counter()\n",
        "for text in train['OriginalTweet']:\n",
        "    tokens = TweetTokenizer().tokenize(text.lower())\n",
        "    tokens = [token for token in tokens if not token in set(stopwords.words('english')) and not token in punctuation and not (len(token) ==  1 and ord(token))]\n",
        "    dictionary.update(tokens)\n",
        "dictionary = sorted(dictionary.items(), key=lambda x: x[1])\n",
        "print(dictionary[-10:])\n",
        "print(dictionary[:20])"
      ]
    },
    {
      "cell_type": "markdown",
      "metadata": {
        "id": "KzjHAKIlDvc6"
      },
      "source": [
        "**Ответ:** Топ популярных слов состоит из целостных, смыловых слов, в непопулярных, по прежнему есть ссылки, хэштеги."
      ]
    },
    {
      "cell_type": "markdown",
      "metadata": {
        "id": "EcDf9_6HB2zm"
      },
      "source": [
        "Выведите топ-10 популярных хештегов с количеством встреч. Что можно сказать о них?"
      ]
    },
    {
      "cell_type": "code",
      "execution_count": 59,
      "metadata": {
        "id": "zk4fygCUBw3l",
        "colab": {
          "base_uri": "https://localhost:8080/"
        },
        "outputId": "075feb8d-5eb2-4f61-de6d-3bd0fac7b3d4"
      },
      "outputs": [
        {
          "output_type": "stream",
          "name": "stdout",
          "text": [
            "[('#coronaviruspandemic', 249), ('#pandemic', 257), ('#coronacrisis', 448), ('#socialdistancing', 465), ('#covid', 641), ('#toiletpaper', 744), ('#covid2019', 946), ('#covid_19', 1734), ('#covid19', 2589), ('#coronavirus', 8808)]\n"
          ]
        }
      ],
      "source": [
        "hashtag = Counter()\n",
        "for text in train['OriginalTweet']:\n",
        "    tokens = TweetTokenizer().tokenize(text.lower())\n",
        "    tokens = [token for token in tokens if token[0]=='#']\n",
        "    hashtag.update(tokens)\n",
        "hashtag = sorted(hashtag.items(), key=lambda x: x[1])\n",
        "print(hashtag[-10:])"
      ]
    },
    {
      "cell_type": "markdown",
      "metadata": {
        "id": "-6NeNWBkDxM7"
      },
      "source": [
        "**Ответ:** Все хэштеги короновирусных времен"
      ]
    },
    {
      "cell_type": "markdown",
      "metadata": {
        "id": "LLYBg7caD5GA"
      },
      "source": [
        "То же самое проделайте для ссылок на сайт https://t.co Сравнима ли популярность ссылок с популярностью хештегов? Будет ли информация о ссылке на конкретную страницу полезна?"
      ]
    },
    {
      "cell_type": "code",
      "execution_count": 61,
      "metadata": {
        "id": "MXbm1oeaCK9S",
        "colab": {
          "base_uri": "https://localhost:8080/"
        },
        "outputId": "6c707808-38f7-4803-bcfe-034f4f3bf604"
      },
      "outputs": [
        {
          "output_type": "stream",
          "name": "stdout",
          "text": [
            "[('https://t.co/3gbbdpdjat', 3), ('https://t.co/e2znxajpre', 3), ('https://t.co/catkegayoy', 3), ('https://t.co/g63rp042ho', 3), ('https://t.co/aziqcdgrnn', 3), ('https://t.co/bylqxrjmnt', 3), ('https://t.co/wuieefsnoj', 3), ('https://t.co/oi39zsanq8', 3), ('https://t.co/gp3eusapl8', 4), ('https://t.co/oxa7swtond', 5)]\n"
          ]
        }
      ],
      "source": [
        "link = Counter()\n",
        "for text in train['OriginalTweet']:\n",
        "    tokens = TweetTokenizer().tokenize(text.lower())\n",
        "    tokens = [token for token in tokens if 'https://t.co' in token]\n",
        "    link.update(tokens)\n",
        "link = sorted(link.items(), key=lambda x: x[1])\n",
        "print(link[-10:])"
      ]
    },
    {
      "cell_type": "markdown",
      "metadata": {
        "id": "at6lRYZ8A07N"
      },
      "source": [
        "**Ответ:** Ссылки очень редки, различны и врядли по ним можно выявить тональность."
      ]
    },
    {
      "cell_type": "markdown",
      "metadata": {
        "id": "IOGdUU1kBU1D"
      },
      "source": [
        "Используем опыт предыдущих экспериментов и напишем собственный токенайзер, улучшив TweetTokenizer. Функция tokenize должна:\n",
        "\n",
        "\n",
        "\n",
        "*   Привести текст в нижний регистр\n",
        "*   Применить TweetTokenizer для изначального выделения токенов\n",
        "*   Удалить стоп-слова, пунктуацию, токены из одного символа, с позицией в таблице Unicode 128 и более и ссылки на t.co\n",
        "\n"
      ]
    },
    {
      "cell_type": "code",
      "execution_count": 62,
      "metadata": {
        "id": "ctEsB6xkFrrK"
      },
      "outputs": [],
      "source": [
        "def custom_tokenizer(text):\n",
        "  from nltk.tokenize import TweetTokenizer\n",
        "  token = TweetTokenizer().tokenize(text.lower())\n",
        "  token = [word for word in token if word not in stopwords.words('english')]\n",
        "  token = [word for word in token if word not in punctuation]\n",
        "  token = [word for word in token if not (len(word)==1 and ord(word) > 127)]\n",
        "  token = [word for word in token if 'https://t.co' not in word]\n",
        "  return token\n"
      ]
    },
    {
      "cell_type": "code",
      "source": [
        "custom_tokenizer('This is sample text!!!! @Sample_text I, \\x92\\x92 https://t.co/sample  #sampletext')"
      ],
      "metadata": {
        "colab": {
          "base_uri": "https://localhost:8080/"
        },
        "id": "IBm9XFJT9GaN",
        "outputId": "9b26b0e4-dadc-4ab6-a728-4371250faeea"
      },
      "execution_count": 63,
      "outputs": [
        {
          "output_type": "execute_result",
          "data": {
            "text/plain": [
              "['sample', 'text', '@sample_text', '#sampletext']"
            ]
          },
          "metadata": {},
          "execution_count": 63
        }
      ]
    },
    {
      "cell_type": "markdown",
      "metadata": {
        "id": "wURVABmXHk97"
      },
      "source": [
        "## Задание 3 Векторизация текстов (2 балла)"
      ]
    },
    {
      "cell_type": "markdown",
      "metadata": {
        "id": "H44iXkoHIQfN"
      },
      "source": [
        "Обучите CountVectorizer с использованием custom_tokenizer в качестве токенайзера. Как размер полученного словаря соотносится с размером изначального словаря из начала задания 2?"
      ]
    },
    {
      "cell_type": "code",
      "source": [
        "from sklearn.feature_extraction.text import CountVectorizer\n",
        "\n",
        "cv = CountVectorizer(tokenizer=custom_tokenizer)\n",
        "cv.fit(train['OriginalTweet'])\n",
        "\n",
        "print(len(cv.vocabulary_))"
      ],
      "metadata": {
        "id": "HCKyhuA7MAQx",
        "colab": {
          "base_uri": "https://localhost:8080/"
        },
        "outputId": "06183eba-8326-4d0f-f4dc-d71fdd012266"
      },
      "execution_count": 64,
      "outputs": [
        {
          "output_type": "stream",
          "name": "stderr",
          "text": [
            "/usr/local/lib/python3.10/dist-packages/sklearn/feature_extraction/text.py:528: UserWarning: The parameter 'token_pattern' will not be used since 'tokenizer' is not None'\n",
            "  warnings.warn(\n"
          ]
        },
        {
          "output_type": "stream",
          "name": "stdout",
          "text": [
            "45306\n"
          ]
        }
      ]
    },
    {
      "cell_type": "markdown",
      "metadata": {
        "id": "gsfmaSGoItUm"
      },
      "source": [
        "**Ответ:** Уменьшиля почти в 2 раза."
      ]
    },
    {
      "cell_type": "markdown",
      "metadata": {
        "id": "lm6UHNmqKZT0"
      },
      "source": [
        "Посмотрим на какой-нибудь конкретный твитт:"
      ]
    },
    {
      "cell_type": "code",
      "execution_count": 65,
      "metadata": {
        "id": "aJVjjfqOJh8m",
        "colab": {
          "base_uri": "https://localhost:8080/"
        },
        "outputId": "e7e2782a-e527-47ee-ad23-2510028fa89c"
      },
      "outputs": [
        {
          "output_type": "execute_result",
          "data": {
            "text/plain": [
              "('Nice one @SkyNews lets not panic but show ppl in france queueing for food!!! #CoronavirusOutbreak #COVID2019 brainless!! Ffs',\n",
              " 0)"
            ]
          },
          "metadata": {},
          "execution_count": 65
        }
      ],
      "source": [
        "ind = 9023\n",
        "train.iloc[ind]['OriginalTweet'], train.iloc[ind]['Sentiment']"
      ]
    },
    {
      "cell_type": "markdown",
      "metadata": {
        "id": "PBMIHBI5KdaS"
      },
      "source": [
        "Автор твитта не доволен ситуацией с едой во Франции и текст имеет резко негативную окраску.\n",
        "\n",
        "Примените обученный CountVectorizer для векторизации данного текста, и попытайтесь определить самый важный токен и самый неважный токен (токен, компонента которого в векторе максимальна/минимальна, без учета 0). Хорошо ли они определились, почему?"
      ]
    },
    {
      "cell_type": "code",
      "source": [
        "custom_tokenizer(train.iloc[ind]['OriginalTweet'])"
      ],
      "metadata": {
        "colab": {
          "base_uri": "https://localhost:8080/"
        },
        "id": "o5qJgevKAKND",
        "outputId": "79abf6d0-9f81-4f15-c920-1e7f68d019cb"
      },
      "execution_count": 84,
      "outputs": [
        {
          "output_type": "execute_result",
          "data": {
            "text/plain": [
              "['nice',\n",
              " 'one',\n",
              " '@skynews',\n",
              " 'lets',\n",
              " 'panic',\n",
              " 'show',\n",
              " 'ppl',\n",
              " 'france',\n",
              " 'queueing',\n",
              " 'food',\n",
              " '#coronavirusoutbreak',\n",
              " '#covid2019',\n",
              " 'brainless',\n",
              " 'ffs']"
            ]
          },
          "metadata": {},
          "execution_count": 84
        }
      ]
    },
    {
      "cell_type": "markdown",
      "source": [
        "Наверное хотелось бы получить что-то вроде: nice, panic, brainless -важно, ffs, show, covid-неважно"
      ],
      "metadata": {
        "id": "h1dlTsGXAbxi"
      }
    },
    {
      "cell_type": "code",
      "source": [
        "count_vector = cv.transform([train.iloc[ind]['OriginalTweet']])\n",
        "count_vector_max = count_vector.toarray().argmax()\n",
        "count_vector_min = count_vector.toarray().argmin()"
      ],
      "metadata": {
        "id": "Ld7cFeo0ZO2r"
      },
      "execution_count": 67,
      "outputs": []
    },
    {
      "cell_type": "code",
      "source": [
        "voc = dict(cv.vocabulary_.items())\n",
        "token_max = list(voc.keys())[list(voc.values()).index(count_vector_max)]\n",
        "token_min = list(voc.keys())[list(voc.values()).index(count_vector_min)]\n",
        "print(token_max, token_min, sep='\\n')"
      ],
      "metadata": {
        "colab": {
          "base_uri": "https://localhost:8080/"
        },
        "id": "3ik0M9mw8H4Z",
        "outputId": "9968666b-95a9-4732-9841-e54a3a2bfe38"
      },
      "execution_count": 82,
      "outputs": [
        {
          "output_type": "stream",
          "name": "stdout",
          "text": [
            "#coronavirusoutbreak\n",
            "###covid-19\n"
          ]
        }
      ]
    },
    {
      "cell_type": "markdown",
      "metadata": {
        "id": "TpEsl1k_NF4T"
      },
      "source": [
        "**Ответ:** Важный и неважный токен схожи и оба не отражают тональность текста"
      ]
    },
    {
      "cell_type": "markdown",
      "metadata": {
        "id": "w4DsEQpLO3J6"
      },
      "source": [
        "Теперь примените TfidfVectorizer и  определите самый важный/неважный токены. Хорошо ли определились, почему?"
      ]
    },
    {
      "cell_type": "code",
      "execution_count": 97,
      "metadata": {
        "id": "uSNzdK3ENGB3",
        "colab": {
          "base_uri": "https://localhost:8080/"
        },
        "outputId": "361babb8-e26d-47d4-f553-cd91008459c9"
      },
      "outputs": [
        {
          "output_type": "stream",
          "name": "stderr",
          "text": [
            "/usr/local/lib/python3.10/dist-packages/sklearn/feature_extraction/text.py:528: UserWarning: The parameter 'token_pattern' will not be used since 'tokenizer' is not None'\n",
            "  warnings.warn(\n"
          ]
        }
      ],
      "source": [
        "from sklearn.feature_extraction.text import TfidfVectorizer\n",
        "\n",
        "tf_idf_v=TfidfVectorizer(tokenizer=custom_tokenizer)\n",
        "tf_idf_v.fit(train['OriginalTweet'])\n",
        "tf_idf_vector = tf_idf_v.transform([train.iloc[ind]['OriginalTweet']])"
      ]
    },
    {
      "cell_type": "markdown",
      "source": [],
      "metadata": {
        "id": "sYABJ49HCIhx"
      }
    },
    {
      "cell_type": "code",
      "source": [
        "tfid_vector_max = tf_idf_vector.toarray().argmax()\n",
        "tfid_vector_min = tf_idf_vector.toarray().argmin()\n",
        "voc_t = dict(tf_idf_v.vocabulary_.items())\n",
        "token_max_t = list(voc_t.keys())[list(voc_t.values()).index(tfid_vector_max)]\n",
        "token_min_t = list(voc_t.keys())[list(voc_t.values()).index(tfid_vector_min)]\n",
        "print(token_max_t, token_min_t, sep='\\n')"
      ],
      "metadata": {
        "colab": {
          "base_uri": "https://localhost:8080/"
        },
        "id": "fj07mpBzBjEg",
        "outputId": "aec92582-68cf-428f-e098-c7ca1c6f4373"
      },
      "execution_count": 99,
      "outputs": [
        {
          "output_type": "stream",
          "name": "stdout",
          "text": [
            "brainless\n",
            "###covid-19\n"
          ]
        }
      ]
    },
    {
      "cell_type": "markdown",
      "metadata": {
        "id": "NYao_UhqQADm"
      },
      "source": [
        "**Ответ:**Теперь по важному токену можно определить тональность, что не может ни радовать."
      ]
    },
    {
      "cell_type": "markdown",
      "metadata": {
        "id": "LGRJPqfWSesQ"
      },
      "source": [
        "Найдите какой-нибудь положительно окрашенный твитт, где TfidfVectorizer хорошо (полезно для определения окраски) выделяет важный токен, поясните пример.\n",
        "\n",
        "*Подсказка:* явно положительные твитты можно искать при помощи положительных слов (good, great, amazing и т. д.)"
      ]
    },
    {
      "cell_type": "code",
      "execution_count": 136,
      "metadata": {
        "id": "bRbQ2CHiSuJI",
        "colab": {
          "base_uri": "https://localhost:8080/",
          "height": 849
        },
        "outputId": "dd48c8c6-e0ae-40d5-9680-72c7d65267b0"
      },
      "outputs": [
        {
          "output_type": "execute_result",
          "data": {
            "text/plain": [
              "       UserName  ScreenName                   Location     TweetAt  \\\n",
              "10107     16065       61017                     global  21-03-2020   \n",
              "32932     44296       89248                    Unknown  13-04-2020   \n",
              "9194      14955       59907  Ireland | UK | Luxembourg  20-03-2020   \n",
              "32712     44039       88991                    Unknown  13-04-2020   \n",
              "16118     23424       68376                     Gambia  24-03-2020   \n",
              "29117     39534       84486                       Ohio  09-04-2020   \n",
              "8534      14172       59124         East Yorkshire, UK  20-03-2020   \n",
              "15979     23240       68192             Washington, DC  24-03-2020   \n",
              "19946     28116       73068          San Francisco, CA  26-03-2020   \n",
              "28693     39015       83967                    Unknown  08-04-2020   \n",
              "\n",
              "                                           OriginalTweet  Sentiment  \n",
              "10107  NHS staff definitely front line troops but a s...          1  \n",
              "32932  With everyone limiting their trips to the groc...          1  \n",
              "9194   VR headset companies, now is the time to slash...          1  \n",
              "32712  @KylieJenner thank you for your generous donat...          1  \n",
              "16118  is not a cure but it reduces the risk of respi...          1  \n",
              "29117  Trip to the grocery store or great train robbe...          1  \n",
              "8534   Yeah sex is great, but I just managed to buy b...          1  \n",
              "15979  Price transparency is so important for the peo...          1  \n",
              "19946  Even little things can be perceived as tacky a...          1  \n",
              "28693  Thanks Pat Hickey for my new Covid 19 mask, wo...          1  "
            ],
            "text/html": [
              "\n",
              "  <div id=\"df-156ebf88-a0c2-4a8e-a1a2-80023a2f77bc\" class=\"colab-df-container\">\n",
              "    <div>\n",
              "<style scoped>\n",
              "    .dataframe tbody tr th:only-of-type {\n",
              "        vertical-align: middle;\n",
              "    }\n",
              "\n",
              "    .dataframe tbody tr th {\n",
              "        vertical-align: top;\n",
              "    }\n",
              "\n",
              "    .dataframe thead th {\n",
              "        text-align: right;\n",
              "    }\n",
              "</style>\n",
              "<table border=\"1\" class=\"dataframe\">\n",
              "  <thead>\n",
              "    <tr style=\"text-align: right;\">\n",
              "      <th></th>\n",
              "      <th>UserName</th>\n",
              "      <th>ScreenName</th>\n",
              "      <th>Location</th>\n",
              "      <th>TweetAt</th>\n",
              "      <th>OriginalTweet</th>\n",
              "      <th>Sentiment</th>\n",
              "    </tr>\n",
              "  </thead>\n",
              "  <tbody>\n",
              "    <tr>\n",
              "      <th>10107</th>\n",
              "      <td>16065</td>\n",
              "      <td>61017</td>\n",
              "      <td>global</td>\n",
              "      <td>21-03-2020</td>\n",
              "      <td>NHS staff definitely front line troops but a s...</td>\n",
              "      <td>1</td>\n",
              "    </tr>\n",
              "    <tr>\n",
              "      <th>32932</th>\n",
              "      <td>44296</td>\n",
              "      <td>89248</td>\n",
              "      <td>Unknown</td>\n",
              "      <td>13-04-2020</td>\n",
              "      <td>With everyone limiting their trips to the groc...</td>\n",
              "      <td>1</td>\n",
              "    </tr>\n",
              "    <tr>\n",
              "      <th>9194</th>\n",
              "      <td>14955</td>\n",
              "      <td>59907</td>\n",
              "      <td>Ireland | UK | Luxembourg</td>\n",
              "      <td>20-03-2020</td>\n",
              "      <td>VR headset companies, now is the time to slash...</td>\n",
              "      <td>1</td>\n",
              "    </tr>\n",
              "    <tr>\n",
              "      <th>32712</th>\n",
              "      <td>44039</td>\n",
              "      <td>88991</td>\n",
              "      <td>Unknown</td>\n",
              "      <td>13-04-2020</td>\n",
              "      <td>@KylieJenner thank you for your generous donat...</td>\n",
              "      <td>1</td>\n",
              "    </tr>\n",
              "    <tr>\n",
              "      <th>16118</th>\n",
              "      <td>23424</td>\n",
              "      <td>68376</td>\n",
              "      <td>Gambia</td>\n",
              "      <td>24-03-2020</td>\n",
              "      <td>is not a cure but it reduces the risk of respi...</td>\n",
              "      <td>1</td>\n",
              "    </tr>\n",
              "    <tr>\n",
              "      <th>29117</th>\n",
              "      <td>39534</td>\n",
              "      <td>84486</td>\n",
              "      <td>Ohio</td>\n",
              "      <td>09-04-2020</td>\n",
              "      <td>Trip to the grocery store or great train robbe...</td>\n",
              "      <td>1</td>\n",
              "    </tr>\n",
              "    <tr>\n",
              "      <th>8534</th>\n",
              "      <td>14172</td>\n",
              "      <td>59124</td>\n",
              "      <td>East Yorkshire, UK</td>\n",
              "      <td>20-03-2020</td>\n",
              "      <td>Yeah sex is great, but I just managed to buy b...</td>\n",
              "      <td>1</td>\n",
              "    </tr>\n",
              "    <tr>\n",
              "      <th>15979</th>\n",
              "      <td>23240</td>\n",
              "      <td>68192</td>\n",
              "      <td>Washington, DC</td>\n",
              "      <td>24-03-2020</td>\n",
              "      <td>Price transparency is so important for the peo...</td>\n",
              "      <td>1</td>\n",
              "    </tr>\n",
              "    <tr>\n",
              "      <th>19946</th>\n",
              "      <td>28116</td>\n",
              "      <td>73068</td>\n",
              "      <td>San Francisco, CA</td>\n",
              "      <td>26-03-2020</td>\n",
              "      <td>Even little things can be perceived as tacky a...</td>\n",
              "      <td>1</td>\n",
              "    </tr>\n",
              "    <tr>\n",
              "      <th>28693</th>\n",
              "      <td>39015</td>\n",
              "      <td>83967</td>\n",
              "      <td>Unknown</td>\n",
              "      <td>08-04-2020</td>\n",
              "      <td>Thanks Pat Hickey for my new Covid 19 mask, wo...</td>\n",
              "      <td>1</td>\n",
              "    </tr>\n",
              "  </tbody>\n",
              "</table>\n",
              "</div>\n",
              "    <div class=\"colab-df-buttons\">\n",
              "\n",
              "  <div class=\"colab-df-container\">\n",
              "    <button class=\"colab-df-convert\" onclick=\"convertToInteractive('df-156ebf88-a0c2-4a8e-a1a2-80023a2f77bc')\"\n",
              "            title=\"Convert this dataframe to an interactive table.\"\n",
              "            style=\"display:none;\">\n",
              "\n",
              "  <svg xmlns=\"http://www.w3.org/2000/svg\" height=\"24px\" viewBox=\"0 -960 960 960\">\n",
              "    <path d=\"M120-120v-720h720v720H120Zm60-500h600v-160H180v160Zm220 220h160v-160H400v160Zm0 220h160v-160H400v160ZM180-400h160v-160H180v160Zm440 0h160v-160H620v160ZM180-180h160v-160H180v160Zm440 0h160v-160H620v160Z\"/>\n",
              "  </svg>\n",
              "    </button>\n",
              "\n",
              "  <style>\n",
              "    .colab-df-container {\n",
              "      display:flex;\n",
              "      gap: 12px;\n",
              "    }\n",
              "\n",
              "    .colab-df-convert {\n",
              "      background-color: #E8F0FE;\n",
              "      border: none;\n",
              "      border-radius: 50%;\n",
              "      cursor: pointer;\n",
              "      display: none;\n",
              "      fill: #1967D2;\n",
              "      height: 32px;\n",
              "      padding: 0 0 0 0;\n",
              "      width: 32px;\n",
              "    }\n",
              "\n",
              "    .colab-df-convert:hover {\n",
              "      background-color: #E2EBFA;\n",
              "      box-shadow: 0px 1px 2px rgba(60, 64, 67, 0.3), 0px 1px 3px 1px rgba(60, 64, 67, 0.15);\n",
              "      fill: #174EA6;\n",
              "    }\n",
              "\n",
              "    .colab-df-buttons div {\n",
              "      margin-bottom: 4px;\n",
              "    }\n",
              "\n",
              "    [theme=dark] .colab-df-convert {\n",
              "      background-color: #3B4455;\n",
              "      fill: #D2E3FC;\n",
              "    }\n",
              "\n",
              "    [theme=dark] .colab-df-convert:hover {\n",
              "      background-color: #434B5C;\n",
              "      box-shadow: 0px 1px 3px 1px rgba(0, 0, 0, 0.15);\n",
              "      filter: drop-shadow(0px 1px 2px rgba(0, 0, 0, 0.3));\n",
              "      fill: #FFFFFF;\n",
              "    }\n",
              "  </style>\n",
              "\n",
              "    <script>\n",
              "      const buttonEl =\n",
              "        document.querySelector('#df-156ebf88-a0c2-4a8e-a1a2-80023a2f77bc button.colab-df-convert');\n",
              "      buttonEl.style.display =\n",
              "        google.colab.kernel.accessAllowed ? 'block' : 'none';\n",
              "\n",
              "      async function convertToInteractive(key) {\n",
              "        const element = document.querySelector('#df-156ebf88-a0c2-4a8e-a1a2-80023a2f77bc');\n",
              "        const dataTable =\n",
              "          await google.colab.kernel.invokeFunction('convertToInteractive',\n",
              "                                                    [key], {});\n",
              "        if (!dataTable) return;\n",
              "\n",
              "        const docLinkHtml = 'Like what you see? Visit the ' +\n",
              "          '<a target=\"_blank\" href=https://colab.research.google.com/notebooks/data_table.ipynb>data table notebook</a>'\n",
              "          + ' to learn more about interactive tables.';\n",
              "        element.innerHTML = '';\n",
              "        dataTable['output_type'] = 'display_data';\n",
              "        await google.colab.output.renderOutput(dataTable, element);\n",
              "        const docLink = document.createElement('div');\n",
              "        docLink.innerHTML = docLinkHtml;\n",
              "        element.appendChild(docLink);\n",
              "      }\n",
              "    </script>\n",
              "  </div>\n",
              "\n",
              "\n",
              "<div id=\"df-fae048e5-1698-4490-8be5-c701225a09ef\">\n",
              "  <button class=\"colab-df-quickchart\" onclick=\"quickchart('df-fae048e5-1698-4490-8be5-c701225a09ef')\"\n",
              "            title=\"Suggest charts\"\n",
              "            style=\"display:none;\">\n",
              "\n",
              "<svg xmlns=\"http://www.w3.org/2000/svg\" height=\"24px\"viewBox=\"0 0 24 24\"\n",
              "     width=\"24px\">\n",
              "    <g>\n",
              "        <path d=\"M19 3H5c-1.1 0-2 .9-2 2v14c0 1.1.9 2 2 2h14c1.1 0 2-.9 2-2V5c0-1.1-.9-2-2-2zM9 17H7v-7h2v7zm4 0h-2V7h2v10zm4 0h-2v-4h2v4z\"/>\n",
              "    </g>\n",
              "</svg>\n",
              "  </button>\n",
              "\n",
              "<style>\n",
              "  .colab-df-quickchart {\n",
              "      --bg-color: #E8F0FE;\n",
              "      --fill-color: #1967D2;\n",
              "      --hover-bg-color: #E2EBFA;\n",
              "      --hover-fill-color: #174EA6;\n",
              "      --disabled-fill-color: #AAA;\n",
              "      --disabled-bg-color: #DDD;\n",
              "  }\n",
              "\n",
              "  [theme=dark] .colab-df-quickchart {\n",
              "      --bg-color: #3B4455;\n",
              "      --fill-color: #D2E3FC;\n",
              "      --hover-bg-color: #434B5C;\n",
              "      --hover-fill-color: #FFFFFF;\n",
              "      --disabled-bg-color: #3B4455;\n",
              "      --disabled-fill-color: #666;\n",
              "  }\n",
              "\n",
              "  .colab-df-quickchart {\n",
              "    background-color: var(--bg-color);\n",
              "    border: none;\n",
              "    border-radius: 50%;\n",
              "    cursor: pointer;\n",
              "    display: none;\n",
              "    fill: var(--fill-color);\n",
              "    height: 32px;\n",
              "    padding: 0;\n",
              "    width: 32px;\n",
              "  }\n",
              "\n",
              "  .colab-df-quickchart:hover {\n",
              "    background-color: var(--hover-bg-color);\n",
              "    box-shadow: 0 1px 2px rgba(60, 64, 67, 0.3), 0 1px 3px 1px rgba(60, 64, 67, 0.15);\n",
              "    fill: var(--button-hover-fill-color);\n",
              "  }\n",
              "\n",
              "  .colab-df-quickchart-complete:disabled,\n",
              "  .colab-df-quickchart-complete:disabled:hover {\n",
              "    background-color: var(--disabled-bg-color);\n",
              "    fill: var(--disabled-fill-color);\n",
              "    box-shadow: none;\n",
              "  }\n",
              "\n",
              "  .colab-df-spinner {\n",
              "    border: 2px solid var(--fill-color);\n",
              "    border-color: transparent;\n",
              "    border-bottom-color: var(--fill-color);\n",
              "    animation:\n",
              "      spin 1s steps(1) infinite;\n",
              "  }\n",
              "\n",
              "  @keyframes spin {\n",
              "    0% {\n",
              "      border-color: transparent;\n",
              "      border-bottom-color: var(--fill-color);\n",
              "      border-left-color: var(--fill-color);\n",
              "    }\n",
              "    20% {\n",
              "      border-color: transparent;\n",
              "      border-left-color: var(--fill-color);\n",
              "      border-top-color: var(--fill-color);\n",
              "    }\n",
              "    30% {\n",
              "      border-color: transparent;\n",
              "      border-left-color: var(--fill-color);\n",
              "      border-top-color: var(--fill-color);\n",
              "      border-right-color: var(--fill-color);\n",
              "    }\n",
              "    40% {\n",
              "      border-color: transparent;\n",
              "      border-right-color: var(--fill-color);\n",
              "      border-top-color: var(--fill-color);\n",
              "    }\n",
              "    60% {\n",
              "      border-color: transparent;\n",
              "      border-right-color: var(--fill-color);\n",
              "    }\n",
              "    80% {\n",
              "      border-color: transparent;\n",
              "      border-right-color: var(--fill-color);\n",
              "      border-bottom-color: var(--fill-color);\n",
              "    }\n",
              "    90% {\n",
              "      border-color: transparent;\n",
              "      border-bottom-color: var(--fill-color);\n",
              "    }\n",
              "  }\n",
              "</style>\n",
              "\n",
              "  <script>\n",
              "    async function quickchart(key) {\n",
              "      const quickchartButtonEl =\n",
              "        document.querySelector('#' + key + ' button');\n",
              "      quickchartButtonEl.disabled = true;  // To prevent multiple clicks.\n",
              "      quickchartButtonEl.classList.add('colab-df-spinner');\n",
              "      try {\n",
              "        const charts = await google.colab.kernel.invokeFunction(\n",
              "            'suggestCharts', [key], {});\n",
              "      } catch (error) {\n",
              "        console.error('Error during call to suggestCharts:', error);\n",
              "      }\n",
              "      quickchartButtonEl.classList.remove('colab-df-spinner');\n",
              "      quickchartButtonEl.classList.add('colab-df-quickchart-complete');\n",
              "    }\n",
              "    (() => {\n",
              "      let quickchartButtonEl =\n",
              "        document.querySelector('#df-fae048e5-1698-4490-8be5-c701225a09ef button');\n",
              "      quickchartButtonEl.style.display =\n",
              "        google.colab.kernel.accessAllowed ? 'block' : 'none';\n",
              "    })();\n",
              "  </script>\n",
              "</div>\n",
              "    </div>\n",
              "  </div>\n"
            ],
            "application/vnd.google.colaboratory.intrinsic+json": {
              "type": "dataframe",
              "repr_error": "0"
            }
          },
          "metadata": {},
          "execution_count": 136
        }
      ],
      "source": [
        "train[train['OriginalTweet'].apply(lambda x: 'great' in x) & (train['Sentiment'] == 1)].sample(10)"
      ]
    },
    {
      "cell_type": "code",
      "source": [
        "print(train.loc[32712][\"OriginalTweet\"])\n",
        "custom_tokenizer(train.loc[32712][\"OriginalTweet\"])"
      ],
      "metadata": {
        "id": "jSjbKPCWk87K",
        "colab": {
          "base_uri": "https://localhost:8080/"
        },
        "outputId": "5a632dd2-c9d2-40b9-f918-c6676ef25a83"
      },
      "execution_count": 144,
      "outputs": [
        {
          "output_type": "stream",
          "name": "stdout",
          "text": [
            "@KylieJenner thank you for your generous donation of hand sanitizer to West Hills Hospital! We greatly appreciate it. Please help us with the fight for hazard pay as part of the phase four coronavirus relief bill. #vote \r\r\n",
            "#supportnurses #KylieJenner #Tru\n"
          ]
        },
        {
          "output_type": "execute_result",
          "data": {
            "text/plain": [
              "['@kyliejenner',\n",
              " 'thank',\n",
              " 'generous',\n",
              " 'donation',\n",
              " 'hand',\n",
              " 'sanitizer',\n",
              " 'west',\n",
              " 'hills',\n",
              " 'hospital',\n",
              " 'greatly',\n",
              " 'appreciate',\n",
              " 'please',\n",
              " 'help',\n",
              " 'us',\n",
              " 'fight',\n",
              " 'hazard',\n",
              " 'pay',\n",
              " 'part',\n",
              " 'phase',\n",
              " 'four',\n",
              " 'coronavirus',\n",
              " 'relief',\n",
              " 'bill',\n",
              " '#vote',\n",
              " '#supportnurses',\n",
              " '#kyliejenner',\n",
              " '#tru']"
            ]
          },
          "metadata": {},
          "execution_count": 144
        }
      ]
    },
    {
      "cell_type": "code",
      "source": [
        "tf_idf_vector = tf_idf_v.transform([train.loc[32712]['OriginalTweet']])\n",
        "tfid_vector_max = tf_idf_vector.toarray().argmax()\n",
        "tfid_vector_min = tf_idf_vector.toarray().argmin()\n",
        "voc_t = dict(tf_idf_v.vocabulary_.items())\n",
        "token_max_t = list(voc_t.keys())[list(voc_t.values()).index(tfid_vector_max)]\n",
        "token_min_t = list(voc_t.keys())[list(voc_t.values()).index(tfid_vector_min)]\n",
        "print(token_max_t, token_min_t, sep='\\n')"
      ],
      "metadata": {
        "id": "rNC-ckFlEKHX",
        "outputId": "7e046fba-0048-47e9-e666-6a65a9155454",
        "colab": {
          "base_uri": "https://localhost:8080/"
        }
      },
      "execution_count": 143,
      "outputs": [
        {
          "output_type": "stream",
          "name": "stdout",
          "text": [
            "#supportnurses\n",
            "###covid-19\n"
          ]
        }
      ]
    },
    {
      "cell_type": "markdown",
      "metadata": {
        "id": "JTv9ST2_U6NA"
      },
      "source": [
        "**Ответ:** В твитте выражается благодарность мед. сестрам, и хэштег отражает отношение автора к ним"
      ]
    },
    {
      "cell_type": "markdown",
      "metadata": {
        "id": "JVEuZm8BHms6"
      },
      "source": [
        "## Задание 4 Обучение первых моделей (1 балл)"
      ]
    },
    {
      "cell_type": "markdown",
      "metadata": {
        "id": "JADkO3sfXdOG"
      },
      "source": [
        "Примените оба векторайзера для получения матриц с признаками текстов.  Выделите целевую переменную."
      ]
    },
    {
      "cell_type": "code",
      "execution_count": 146,
      "metadata": {
        "id": "DguoiXhCX2oN"
      },
      "outputs": [],
      "source": [
        "y_train = train['Sentiment']\n",
        "X_train = train.drop(['Sentiment'], axis=1)\n",
        "y_test = test['Sentiment']\n",
        "X_test = test.drop(['Sentiment'], axis=1)"
      ]
    },
    {
      "cell_type": "code",
      "source": [
        "X_train_cv = cv.transform(X_train['OriginalTweet'])\n",
        "X_test_cv = cv.transform(X_test['OriginalTweet'])\n",
        "X_train_tf = tf_idf_v.transform(X_train['OriginalTweet'])\n",
        "X_test_tf = tf_idf_v.transform(X_test['OriginalTweet'])"
      ],
      "metadata": {
        "id": "GYjp52zrPpta"
      },
      "execution_count": 148,
      "outputs": []
    },
    {
      "cell_type": "markdown",
      "metadata": {
        "id": "_FX1KSOfYSx4"
      },
      "source": [
        "Обучите логистическую регрессию на векторах из обоих векторайзеров. Посчитайте долю правильных ответов на обучающих и тестовых данных. Какой векторайзер показал лучший результат? Что можно сказать о моделях?"
      ]
    },
    {
      "cell_type": "code",
      "execution_count": 149,
      "metadata": {
        "id": "-Tb3eh8UXJ6v",
        "colab": {
          "base_uri": "https://localhost:8080/"
        },
        "outputId": "3a3f398b-929a-491c-c799-8c7a31a1c02a"
      },
      "outputs": [
        {
          "output_type": "stream",
          "name": "stderr",
          "text": [
            "/usr/local/lib/python3.10/dist-packages/sklearn/linear_model/_logistic.py:458: ConvergenceWarning: lbfgs failed to converge (status=1):\n",
            "STOP: TOTAL NO. of ITERATIONS REACHED LIMIT.\n",
            "\n",
            "Increase the number of iterations (max_iter) or scale the data as shown in:\n",
            "    https://scikit-learn.org/stable/modules/preprocessing.html\n",
            "Please also refer to the documentation for alternative solver options:\n",
            "    https://scikit-learn.org/stable/modules/linear_model.html#logistic-regression\n",
            "  n_iter_i = _check_optimize_result(\n"
          ]
        },
        {
          "output_type": "stream",
          "name": "stdout",
          "text": [
            "arruracy cv train: 0.9843656557026912\n",
            "arruracy cv test: 0.8675503288818018\n",
            "arruracy tf train:: 0.9254592054677488\n",
            "arruracy tf test:: 0.8533984452860275\n"
          ]
        }
      ],
      "source": [
        "from sklearn.linear_model import LogisticRegression\n",
        "from sklearn.metrics import accuracy_score\n",
        "\n",
        "lr_cv = LogisticRegression()\n",
        "lr_cv.fit(X_train_cv, y_train)\n",
        "lr_tf = LogisticRegression()\n",
        "lr_tf.fit(X_train_tf, y_train)\n",
        "\n",
        "predict_cv_train = lr_cv.predict(X_train_cv)\n",
        "predict_cv_test = lr_cv.predict(X_test_cv)\n",
        "accuracy_cv_train = accuracy_score(y_train, predict_cv_train)\n",
        "accuracy_cv_test = accuracy_score(y_test, predict_cv_test)\n",
        "\n",
        "predict_tf_train = lr_tf.predict(X_train_tf)\n",
        "predict_tf_test = lr_tf.predict(X_test_tf)\n",
        "accuracy_tf_train = accuracy_score(y_train, predict_tf_train)\n",
        "accuracy_tf_test = accuracy_score(y_test, predict_tf_test)\n",
        "\n",
        "print('arruracy cv train:', accuracy_cv_train)\n",
        "print('arruracy cv test:', accuracy_cv_test)\n",
        "print('arruracy tf train::', accuracy_tf_train)\n",
        "print('arruracy tf test::', accuracy_tf_test)"
      ]
    },
    {
      "cell_type": "markdown",
      "metadata": {
        "id": "8y_wO7rCmv7K"
      },
      "source": [
        "**Ответ:** CountVectorizer показывает результыты лучше как на тренировочных, так и на тестовых данных."
      ]
    },
    {
      "cell_type": "markdown",
      "metadata": {
        "id": "rSOR1i3mjrys"
      },
      "source": [
        "## Задание 5 Стемминг (0.5 балла)"
      ]
    },
    {
      "cell_type": "markdown",
      "metadata": {
        "id": "i6ONBWNPjuq-"
      },
      "source": [
        "Для уменьшения словаря можно использовать стемминг.\n",
        "\n",
        "Модифицируйте написанный токенайзер, добавив в него стемминг с использованием SnowballStemmer. Обучите Count- и Tfidf- векторайзеры. Как изменился размер словаря?"
      ]
    },
    {
      "cell_type": "code",
      "execution_count": 152,
      "metadata": {
        "id": "oVfA2-iMkQBb"
      },
      "outputs": [],
      "source": [
        "from nltk.stem import SnowballStemmer\n",
        "\n",
        "def custom_stem_tokenizer(text):\n",
        "  tokens = custom_tokenizer(text)\n",
        "  tokens = [SnowballStemmer('english').stem(token) for token in tokens]\n",
        "  return tokens"
      ]
    },
    {
      "cell_type": "code",
      "execution_count": 153,
      "metadata": {
        "colab": {
          "base_uri": "https://localhost:8080/"
        },
        "id": "9QmrjYtqnlPd",
        "outputId": "4a40497d-8a51-406e-aa32-3953563c14aa"
      },
      "outputs": [
        {
          "output_type": "execute_result",
          "data": {
            "text/plain": [
              "['sampl', 'text', '@sample_text', '#sampletext', 'ad', 'word', 'check', 'stem']"
            ]
          },
          "metadata": {},
          "execution_count": 153
        }
      ],
      "source": [
        "custom_stem_tokenizer('This is sample text!!!! @Sample_text I, \\x92\\x92 https://t.co/sample  #sampletext adding more words to check stemming')"
      ]
    },
    {
      "cell_type": "code",
      "execution_count": 158,
      "metadata": {
        "colab": {
          "base_uri": "https://localhost:8080/"
        },
        "id": "zAvUTmaplzOS",
        "outputId": "d46588f5-5e02-49d7-c1d4-aaaab0848c9d"
      },
      "outputs": [
        {
          "output_type": "stream",
          "name": "stderr",
          "text": [
            "/usr/local/lib/python3.10/dist-packages/sklearn/feature_extraction/text.py:528: UserWarning: The parameter 'token_pattern' will not be used since 'tokenizer' is not None'\n",
            "  warnings.warn(\n"
          ]
        },
        {
          "output_type": "stream",
          "name": "stdout",
          "text": [
            "36650\n"
          ]
        }
      ],
      "source": [
        "cv = CountVectorizer(tokenizer=custom_stem_tokenizer)\n",
        "cv.fit(train['OriginalTweet'])\n",
        "print(len(cv.vocabulary_))"
      ]
    },
    {
      "cell_type": "markdown",
      "metadata": {
        "id": "Oyzs5TaAoHP6"
      },
      "source": [
        "**Ответ** Размер словаря уменьшился почти на 20% по сравнению с предыдушим токенайзером."
      ]
    },
    {
      "cell_type": "markdown",
      "metadata": {
        "id": "1OkncHI8oRmd"
      },
      "source": [
        "Обучите логистическую регрессию с использованием обоих векторайзеров. Изменилось ли качество? Есть ли смысл применять стемминг?"
      ]
    },
    {
      "cell_type": "code",
      "execution_count": 155,
      "metadata": {
        "id": "ykZJPphEoZ5W",
        "colab": {
          "base_uri": "https://localhost:8080/",
          "height": 75
        },
        "outputId": "9bfa10b7-1e7f-4f3c-ea90-b2635875fc6b"
      },
      "outputs": [
        {
          "output_type": "execute_result",
          "data": {
            "text/plain": [
              "TfidfVectorizer(tokenizer=<function custom_stem_tokenizer at 0x7d165a38bd90>)"
            ],
            "text/html": [
              "<style>#sk-container-id-1 {color: black;background-color: white;}#sk-container-id-1 pre{padding: 0;}#sk-container-id-1 div.sk-toggleable {background-color: white;}#sk-container-id-1 label.sk-toggleable__label {cursor: pointer;display: block;width: 100%;margin-bottom: 0;padding: 0.3em;box-sizing: border-box;text-align: center;}#sk-container-id-1 label.sk-toggleable__label-arrow:before {content: \"▸\";float: left;margin-right: 0.25em;color: #696969;}#sk-container-id-1 label.sk-toggleable__label-arrow:hover:before {color: black;}#sk-container-id-1 div.sk-estimator:hover label.sk-toggleable__label-arrow:before {color: black;}#sk-container-id-1 div.sk-toggleable__content {max-height: 0;max-width: 0;overflow: hidden;text-align: left;background-color: #f0f8ff;}#sk-container-id-1 div.sk-toggleable__content pre {margin: 0.2em;color: black;border-radius: 0.25em;background-color: #f0f8ff;}#sk-container-id-1 input.sk-toggleable__control:checked~div.sk-toggleable__content {max-height: 200px;max-width: 100%;overflow: auto;}#sk-container-id-1 input.sk-toggleable__control:checked~label.sk-toggleable__label-arrow:before {content: \"▾\";}#sk-container-id-1 div.sk-estimator input.sk-toggleable__control:checked~label.sk-toggleable__label {background-color: #d4ebff;}#sk-container-id-1 div.sk-label input.sk-toggleable__control:checked~label.sk-toggleable__label {background-color: #d4ebff;}#sk-container-id-1 input.sk-hidden--visually {border: 0;clip: rect(1px 1px 1px 1px);clip: rect(1px, 1px, 1px, 1px);height: 1px;margin: -1px;overflow: hidden;padding: 0;position: absolute;width: 1px;}#sk-container-id-1 div.sk-estimator {font-family: monospace;background-color: #f0f8ff;border: 1px dotted black;border-radius: 0.25em;box-sizing: border-box;margin-bottom: 0.5em;}#sk-container-id-1 div.sk-estimator:hover {background-color: #d4ebff;}#sk-container-id-1 div.sk-parallel-item::after {content: \"\";width: 100%;border-bottom: 1px solid gray;flex-grow: 1;}#sk-container-id-1 div.sk-label:hover label.sk-toggleable__label {background-color: #d4ebff;}#sk-container-id-1 div.sk-serial::before {content: \"\";position: absolute;border-left: 1px solid gray;box-sizing: border-box;top: 0;bottom: 0;left: 50%;z-index: 0;}#sk-container-id-1 div.sk-serial {display: flex;flex-direction: column;align-items: center;background-color: white;padding-right: 0.2em;padding-left: 0.2em;position: relative;}#sk-container-id-1 div.sk-item {position: relative;z-index: 1;}#sk-container-id-1 div.sk-parallel {display: flex;align-items: stretch;justify-content: center;background-color: white;position: relative;}#sk-container-id-1 div.sk-item::before, #sk-container-id-1 div.sk-parallel-item::before {content: \"\";position: absolute;border-left: 1px solid gray;box-sizing: border-box;top: 0;bottom: 0;left: 50%;z-index: -1;}#sk-container-id-1 div.sk-parallel-item {display: flex;flex-direction: column;z-index: 1;position: relative;background-color: white;}#sk-container-id-1 div.sk-parallel-item:first-child::after {align-self: flex-end;width: 50%;}#sk-container-id-1 div.sk-parallel-item:last-child::after {align-self: flex-start;width: 50%;}#sk-container-id-1 div.sk-parallel-item:only-child::after {width: 0;}#sk-container-id-1 div.sk-dashed-wrapped {border: 1px dashed gray;margin: 0 0.4em 0.5em 0.4em;box-sizing: border-box;padding-bottom: 0.4em;background-color: white;}#sk-container-id-1 div.sk-label label {font-family: monospace;font-weight: bold;display: inline-block;line-height: 1.2em;}#sk-container-id-1 div.sk-label-container {text-align: center;}#sk-container-id-1 div.sk-container {/* jupyter's `normalize.less` sets `[hidden] { display: none; }` but bootstrap.min.css set `[hidden] { display: none !important; }` so we also need the `!important` here to be able to override the default hidden behavior on the sphinx rendered scikit-learn.org. See: https://github.com/scikit-learn/scikit-learn/issues/21755 */display: inline-block !important;position: relative;}#sk-container-id-1 div.sk-text-repr-fallback {display: none;}</style><div id=\"sk-container-id-1\" class=\"sk-top-container\"><div class=\"sk-text-repr-fallback\"><pre>TfidfVectorizer(tokenizer=&lt;function custom_stem_tokenizer at 0x7d165a38bd90&gt;)</pre><b>In a Jupyter environment, please rerun this cell to show the HTML representation or trust the notebook. <br />On GitHub, the HTML representation is unable to render, please try loading this page with nbviewer.org.</b></div><div class=\"sk-container\" hidden><div class=\"sk-item\"><div class=\"sk-estimator sk-toggleable\"><input class=\"sk-toggleable__control sk-hidden--visually\" id=\"sk-estimator-id-1\" type=\"checkbox\" checked><label for=\"sk-estimator-id-1\" class=\"sk-toggleable__label sk-toggleable__label-arrow\">TfidfVectorizer</label><div class=\"sk-toggleable__content\"><pre>TfidfVectorizer(tokenizer=&lt;function custom_stem_tokenizer at 0x7d165a38bd90&gt;)</pre></div></div></div></div></div>"
            ]
          },
          "metadata": {},
          "execution_count": 155
        }
      ],
      "source": [
        "cv = CountVectorizer(tokenizer=custom_stem_tokenizer)\n",
        "cv.fit(train['OriginalTweet'])\n",
        "tf_idf_v=TfidfVectorizer(tokenizer=custom_stem_tokenizer)\n",
        "tf_idf_v.fit(train['OriginalTweet'])"
      ]
    },
    {
      "cell_type": "code",
      "source": [
        "X_train_cv = cv.transform(X_train['OriginalTweet'])\n",
        "X_test_cv = cv.transform(X_test['OriginalTweet'])\n",
        "X_train_tf = tf_idf_v.transform(X_train['OriginalTweet'])\n",
        "X_test_tf = tf_idf_v.transform(X_test['OriginalTweet'])"
      ],
      "metadata": {
        "id": "W4M_ie62XNcj"
      },
      "execution_count": 156,
      "outputs": []
    },
    {
      "cell_type": "code",
      "source": [
        "lr_cv = LogisticRegression()\n",
        "lr_cv.fit(X_train_cv, y_train)\n",
        "lr_tf = LogisticRegression()\n",
        "lr_tf.fit(X_train_tf, y_train)\n",
        "\n",
        "predict_cv_train = lr_cv.predict(X_train_cv)\n",
        "predict_cv_test = lr_cv.predict(X_test_cv)\n",
        "accuracy_cv_train = accuracy_score(y_train, predict_cv_train)\n",
        "accuracy_cv_test = accuracy_score(y_test, predict_cv_test)\n",
        "\n",
        "predict_tf_train = lr_tf.predict(X_train_tf)\n",
        "predict_tf_test = lr_tf.predict(X_test_tf)\n",
        "accuracy_tf_train = accuracy_score(y_train, predict_tf_train)\n",
        "accuracy_tf_test = accuracy_score(y_test, predict_tf_test)\n",
        "\n",
        "print('arruracy cv train:', accuracy_cv_train)\n",
        "print('arruracy cv test:', accuracy_cv_test)\n",
        "print('arruracy tf train::', accuracy_tf_train)\n",
        "print('arruracy tf test::', accuracy_tf_test)"
      ],
      "metadata": {
        "id": "tmQPjjNQXRlF",
        "outputId": "524d2753-4ceb-41cd-fe86-1f64a03bda92",
        "colab": {
          "base_uri": "https://localhost:8080/"
        }
      },
      "execution_count": 157,
      "outputs": [
        {
          "output_type": "stream",
          "name": "stderr",
          "text": [
            "/usr/local/lib/python3.10/dist-packages/sklearn/linear_model/_logistic.py:458: ConvergenceWarning: lbfgs failed to converge (status=1):\n",
            "STOP: TOTAL NO. of ITERATIONS REACHED LIMIT.\n",
            "\n",
            "Increase the number of iterations (max_iter) or scale the data as shown in:\n",
            "    https://scikit-learn.org/stable/modules/preprocessing.html\n",
            "Please also refer to the documentation for alternative solver options:\n",
            "    https://scikit-learn.org/stable/modules/linear_model.html#logistic-regression\n",
            "  n_iter_i = _check_optimize_result(\n"
          ]
        },
        {
          "output_type": "stream",
          "name": "stdout",
          "text": [
            "arruracy cv train: 0.9716787697565143\n",
            "arruracy cv test: 0.8672513454255532\n",
            "arruracy tf train:: 0.9158052114480991\n",
            "arruracy tf test:: 0.8560892963922663\n"
          ]
        }
      ]
    },
    {
      "cell_type": "markdown",
      "metadata": {
        "id": "bCRlrODro0h8"
      },
      "source": [
        "**Ответ:** На тренировочных данных качество упало,на тесте немного выросло."
      ]
    },
    {
      "cell_type": "markdown",
      "metadata": {
        "id": "hYWGQNEDqLC-"
      },
      "source": [
        "## Задание  6 Работа с частотами (1.5 балла)"
      ]
    },
    {
      "cell_type": "markdown",
      "metadata": {
        "id": "8Hq-tl5mqUSn"
      },
      "source": [
        "Еще один способ уменьшить количество признаков - это использовать параметры min_df и max_df при построении векторайзера  эти параметры помогают ограничить требуемую частоту встречаемости токена в документах.\n",
        "\n",
        "По умолчанию берутся все токены, которые встретились хотя бы один раз.\n",
        "\n"
      ]
    },
    {
      "cell_type": "markdown",
      "metadata": {
        "id": "m1SiD4DE3WZ2"
      },
      "source": [
        "Подберите max_df такой, что размер словаря будет 36651 (на 1 меньше, чем было). Почему параметр получился такой большой/маленький?"
      ]
    },
    {
      "cell_type": "code",
      "source": [
        "cv_df = CountVectorizer(tokenizer=custom_stem_tokenizer,\n",
        "                        max_df=8000).fit(train['OriginalTweet'])\n",
        "print(len(cv_df.vocabulary_))"
      ],
      "metadata": {
        "colab": {
          "base_uri": "https://localhost:8080/"
        },
        "id": "o3YLb8PViExb",
        "outputId": "533978db-9cb2-473e-a6b7-678766f7a032"
      },
      "execution_count": 165,
      "outputs": [
        {
          "output_type": "stream",
          "name": "stdout",
          "text": [
            "36649\n"
          ]
        }
      ]
    },
    {
      "cell_type": "markdown",
      "metadata": {
        "id": "UdZYoGZR4UsA"
      },
      "source": [
        "**Ответ:** Не получится подобрать нужный параметр, потому что без ограничений на максимум почему то размер словаря вышел 36651. Вообще суть метода: параметр \"max_df\" ограничивает частоту встреч токена. Некоторые слова, такие как короновирус встречаются, почти в каждом токене, и из-за этого остальные слова встречаются не так часто."
      ]
    },
    {
      "cell_type": "markdown",
      "metadata": {
        "id": "_gRIUaB1u32f"
      },
      "source": [
        "Подберите min_df (используйте дефолтное значение max_df) в CountVectorizer таким образом, чтобы размер словаря был 3700 токенов (при использовании токенайзера со стеммингом), а качество осталось таким же, как и было. Что можно сказать о результатах?"
      ]
    },
    {
      "cell_type": "code",
      "execution_count": 166,
      "metadata": {
        "colab": {
          "base_uri": "https://localhost:8080/"
        },
        "id": "kSnMJkn9XmsT",
        "outputId": "7e64b08d-50de-4569-cae2-839b3c1cb557"
      },
      "outputs": [
        {
          "output_type": "stream",
          "name": "stdout",
          "text": [
            "3700\n"
          ]
        }
      ],
      "source": [
        "cv_df = CountVectorizer(tokenizer=custom_stem_tokenizer,\n",
        "                        min_df=11\n",
        "                        ).fit(\n",
        "                            train['OriginalTweet']\n",
        "                            )\n",
        "print(len(cv_df.vocabulary_))"
      ]
    },
    {
      "cell_type": "code",
      "source": [
        "X_train_cv = cv_df.transform(X_train['OriginalTweet'])\n",
        "X_test_cv = cv_df.transform(X_test['OriginalTweet'])\n",
        "lr_cv = LogisticRegression()\n",
        "lr_cv.fit(X_train_cv, y_train)\n",
        "\n",
        "predict_cv_train = lr_cv.predict(X_train_cv)\n",
        "predict_cv_test = lr_cv.predict(X_test_cv)\n",
        "accuracy_cv_train = accuracy_score(y_train, predict_cv_train)\n",
        "accuracy_cv_test = accuracy_score(y_test, predict_cv_test)"
      ],
      "metadata": {
        "id": "mvMDwpdfjm8Y",
        "colab": {
          "base_uri": "https://localhost:8080/"
        },
        "outputId": "a9c60524-7764-4eeb-c599-255c7da81035"
      },
      "execution_count": 167,
      "outputs": [
        {
          "output_type": "stream",
          "name": "stderr",
          "text": [
            "/usr/local/lib/python3.10/dist-packages/sklearn/linear_model/_logistic.py:458: ConvergenceWarning: lbfgs failed to converge (status=1):\n",
            "STOP: TOTAL NO. of ITERATIONS REACHED LIMIT.\n",
            "\n",
            "Increase the number of iterations (max_iter) or scale the data as shown in:\n",
            "    https://scikit-learn.org/stable/modules/preprocessing.html\n",
            "Please also refer to the documentation for alternative solver options:\n",
            "    https://scikit-learn.org/stable/modules/linear_model.html#logistic-regression\n",
            "  n_iter_i = _check_optimize_result(\n"
          ]
        }
      ]
    },
    {
      "cell_type": "code",
      "source": [
        "print('arruracy cv train:', accuracy_cv_train)\n",
        "print('arruracy cv test:', accuracy_cv_test)"
      ],
      "metadata": {
        "id": "LwHksGI9f7Cr",
        "outputId": "1a87ca7b-9a46-4aba-f7dd-142cf73f67eb",
        "colab": {
          "base_uri": "https://localhost:8080/"
        }
      },
      "execution_count": 168,
      "outputs": [
        {
          "output_type": "stream",
          "name": "stdout",
          "text": [
            "arruracy cv train: 0.9284493806065783\n",
            "arruracy cv test: 0.8677496511859677\n"
          ]
        }
      ]
    },
    {
      "cell_type": "markdown",
      "metadata": {
        "id": "3fGYpUIZx0fk"
      },
      "source": [
        "**Ответ:** Хоть мы и уменьшили словарь, но качество, осталось тем же."
      ]
    },
    {
      "cell_type": "markdown",
      "source": [
        "В предыдущих заданиях признаки не скалировались. Отскалируйте данные (при словаре размера 3.7 тысяч, векторизованные CountVectorizer), обучите логистическую регрессию, посмотрите качество и выведите `berplot` содержащий по 10 токенов, с наибольшим по модулю положительными/отрицательными весами. Что можно сказать об этих токенах?"
      ],
      "metadata": {
        "id": "Gx_h_-inKbBl"
      }
    },
    {
      "cell_type": "code",
      "source": [
        "from sklearn.preprocessing import StandardScaler\n",
        "scaler = StandardScaler()"
      ],
      "metadata": {
        "id": "KBATXJX6LG9q"
      },
      "execution_count": 169,
      "outputs": []
    },
    {
      "cell_type": "code",
      "source": [
        "X_train_sc = scaler.fit_transform(X_train_cv.toarray())\n",
        "X_test_sc = scaler.transform(X_test_cv.toarray())\n",
        "\n",
        "lr_cv = LogisticRegression()\n",
        "lr_cv.fit(X_train_sc, y_train)\n",
        "\n",
        "\n",
        "predict_cv_train = lr_cv.predict(X_train_cv)\n",
        "predict_cv_test = lr_cv.predict(X_test_cv)\n",
        "accuracy_cv_train = accuracy_score(y_train, predict_cv_train)\n",
        "accuracy_cv_test = accuracy_score(y_test, predict_cv_test)\n",
        "\n",
        "print('arruracy cv train:', accuracy_cv_train)\n",
        "print('arruracy cv test:', accuracy_cv_test)"
      ],
      "metadata": {
        "id": "HAjYV33fhjA1",
        "outputId": "438ffc60-c3e7-4c3b-a1c7-24e79fea34a3",
        "colab": {
          "base_uri": "https://localhost:8080/"
        }
      },
      "execution_count": 170,
      "outputs": [
        {
          "output_type": "stream",
          "name": "stdout",
          "text": [
            "arruracy cv train: 0.7354976505766766\n",
            "arruracy cv test: 0.7312138728323699\n"
          ]
        },
        {
          "output_type": "stream",
          "name": "stderr",
          "text": [
            "/usr/local/lib/python3.10/dist-packages/sklearn/linear_model/_logistic.py:458: ConvergenceWarning: lbfgs failed to converge (status=1):\n",
            "STOP: TOTAL NO. of ITERATIONS REACHED LIMIT.\n",
            "\n",
            "Increase the number of iterations (max_iter) or scale the data as shown in:\n",
            "    https://scikit-learn.org/stable/modules/preprocessing.html\n",
            "Please also refer to the documentation for alternative solver options:\n",
            "    https://scikit-learn.org/stable/modules/linear_model.html#logistic-regression\n",
            "  n_iter_i = _check_optimize_result(\n"
          ]
        }
      ]
    },
    {
      "cell_type": "code",
      "source": [
        "weights = lr_cv.coef_[0]\n",
        "weights1 = np.argsort(weights)\n",
        "max_weights_tokens = weights1[-10:]\n",
        "min_weights_tokens = weights1[:10]\n",
        "\n",
        "\n",
        "name_tokens = np.array(cv_df.get_feature_names_out())\n",
        "max_name_tokens = name_tokens[max_weights_tokens]\n",
        "min_name_tokens = name_tokens[min_weights_tokens]\n",
        "\n",
        "plt.barh(max_name_tokens, weights[max_weights_tokens])\n",
        "plt.barh(min_name_tokens, weights[min_weights_tokens])"
      ],
      "metadata": {
        "id": "nHsu553ziK5k",
        "outputId": "2420e9ff-a375-4196-f9b6-5d11adcf366f",
        "colab": {
          "base_uri": "https://localhost:8080/",
          "height": 430
        }
      },
      "execution_count": 177,
      "outputs": [
        {
          "output_type": "display_data",
          "data": {
            "text/plain": [
              "<Figure size 640x480 with 1 Axes>"
            ],
            "image/png": "[encoded data removed]"
          },
          "metadata": {}
        }
      ]
    },
    {
      "cell_type": "markdown",
      "source": [
        "**Ответ:** Положительной тональности веса имеют положительные веса и наоборот."
      ],
      "metadata": {
        "id": "ThcEfzY1LHET"
      }
    },
    {
      "cell_type": "markdown",
      "metadata": {
        "id": "ktJVOdrIHq7B"
      },
      "source": [
        "## Задание 7 Другие признаки (1.5 балла)"
      ]
    },
    {
      "cell_type": "markdown",
      "metadata": {
        "id": "Yt3jRCZ2H0Og"
      },
      "source": [
        "Мы были сконцентрированы на работе с текстами твиттов и не использовали другие признаки - имена пользователя, дату и местоположение"
      ]
    },
    {
      "cell_type": "markdown",
      "metadata": {
        "id": "52wjewCCo_di"
      },
      "source": [
        "Изучите признаки UserName и ScreenName. полезны ли они? Если полезны, то закодируйте их, добавьте к матрице с отскалированными признаками, обучите логистическую регрессию, замерьте качество."
      ]
    },
    {
      "cell_type": "code",
      "execution_count": 178,
      "metadata": {
        "id": "63thouYZptj6",
        "colab": {
          "base_uri": "https://localhost:8080/",
          "height": 424
        },
        "outputId": "4e3765a0-b530-4646-884c-12167a6ba42b"
      },
      "outputs": [
        {
          "output_type": "execute_result",
          "data": {
            "text/plain": [
              "       UserName  ScreenName\n",
              "25621     35178       80130\n",
              "30135     40819       85771\n",
              "28899     39249       84201\n",
              "5989      11068       56020\n",
              "4367       9109       54061\n",
              "...         ...         ...\n",
              "20757     29120       74072\n",
              "32103     43291       88243\n",
              "30403     41159       86111\n",
              "21243     29702       74654\n",
              "2732       7104       52056\n",
              "\n",
              "[23410 rows x 2 columns]"
            ],
            "text/html": [
              "\n",
              "  <div id=\"df-c4339461-e236-4f56-a40a-cef21e65a51e\" class=\"colab-df-container\">\n",
              "    <div>\n",
              "<style scoped>\n",
              "    .dataframe tbody tr th:only-of-type {\n",
              "        vertical-align: middle;\n",
              "    }\n",
              "\n",
              "    .dataframe tbody tr th {\n",
              "        vertical-align: top;\n",
              "    }\n",
              "\n",
              "    .dataframe thead th {\n",
              "        text-align: right;\n",
              "    }\n",
              "</style>\n",
              "<table border=\"1\" class=\"dataframe\">\n",
              "  <thead>\n",
              "    <tr style=\"text-align: right;\">\n",
              "      <th></th>\n",
              "      <th>UserName</th>\n",
              "      <th>ScreenName</th>\n",
              "    </tr>\n",
              "  </thead>\n",
              "  <tbody>\n",
              "    <tr>\n",
              "      <th>25621</th>\n",
              "      <td>35178</td>\n",
              "      <td>80130</td>\n",
              "    </tr>\n",
              "    <tr>\n",
              "      <th>30135</th>\n",
              "      <td>40819</td>\n",
              "      <td>85771</td>\n",
              "    </tr>\n",
              "    <tr>\n",
              "      <th>28899</th>\n",
              "      <td>39249</td>\n",
              "      <td>84201</td>\n",
              "    </tr>\n",
              "    <tr>\n",
              "      <th>5989</th>\n",
              "      <td>11068</td>\n",
              "      <td>56020</td>\n",
              "    </tr>\n",
              "    <tr>\n",
              "      <th>4367</th>\n",
              "      <td>9109</td>\n",
              "      <td>54061</td>\n",
              "    </tr>\n",
              "    <tr>\n",
              "      <th>...</th>\n",
              "      <td>...</td>\n",
              "      <td>...</td>\n",
              "    </tr>\n",
              "    <tr>\n",
              "      <th>20757</th>\n",
              "      <td>29120</td>\n",
              "      <td>74072</td>\n",
              "    </tr>\n",
              "    <tr>\n",
              "      <th>32103</th>\n",
              "      <td>43291</td>\n",
              "      <td>88243</td>\n",
              "    </tr>\n",
              "    <tr>\n",
              "      <th>30403</th>\n",
              "      <td>41159</td>\n",
              "      <td>86111</td>\n",
              "    </tr>\n",
              "    <tr>\n",
              "      <th>21243</th>\n",
              "      <td>29702</td>\n",
              "      <td>74654</td>\n",
              "    </tr>\n",
              "    <tr>\n",
              "      <th>2732</th>\n",
              "      <td>7104</td>\n",
              "      <td>52056</td>\n",
              "    </tr>\n",
              "  </tbody>\n",
              "</table>\n",
              "<p>23410 rows × 2 columns</p>\n",
              "</div>\n",
              "    <div class=\"colab-df-buttons\">\n",
              "\n",
              "  <div class=\"colab-df-container\">\n",
              "    <button class=\"colab-df-convert\" onclick=\"convertToInteractive('df-c4339461-e236-4f56-a40a-cef21e65a51e')\"\n",
              "            title=\"Convert this dataframe to an interactive table.\"\n",
              "            style=\"display:none;\">\n",
              "\n",
              "  <svg xmlns=\"http://www.w3.org/2000/svg\" height=\"24px\" viewBox=\"0 -960 960 960\">\n",
              "    <path d=\"M120-120v-720h720v720H120Zm60-500h600v-160H180v160Zm220 220h160v-160H400v160Zm0 220h160v-160H400v160ZM180-400h160v-160H180v160Zm440 0h160v-160H620v160ZM180-180h160v-160H180v160Zm440 0h160v-160H620v160Z\"/>\n",
              "  </svg>\n",
              "    </button>\n",
              "\n",
              "  <style>\n",
              "    .colab-df-container {\n",
              "      display:flex;\n",
              "      gap: 12px;\n",
              "    }\n",
              "\n",
              "    .colab-df-convert {\n",
              "      background-color: #E8F0FE;\n",
              "      border: none;\n",
              "      border-radius: 50%;\n",
              "      cursor: pointer;\n",
              "      display: none;\n",
              "      fill: #1967D2;\n",
              "      height: 32px;\n",
              "      padding: 0 0 0 0;\n",
              "      width: 32px;\n",
              "    }\n",
              "\n",
              "    .colab-df-convert:hover {\n",
              "      background-color: #E2EBFA;\n",
              "      box-shadow: 0px 1px 2px rgba(60, 64, 67, 0.3), 0px 1px 3px 1px rgba(60, 64, 67, 0.15);\n",
              "      fill: #174EA6;\n",
              "    }\n",
              "\n",
              "    .colab-df-buttons div {\n",
              "      margin-bottom: 4px;\n",
              "    }\n",
              "\n",
              "    [theme=dark] .colab-df-convert {\n",
              "      background-color: #3B4455;\n",
              "      fill: #D2E3FC;\n",
              "    }\n",
              "\n",
              "    [theme=dark] .colab-df-convert:hover {\n",
              "      background-color: #434B5C;\n",
              "      box-shadow: 0px 1px 3px 1px rgba(0, 0, 0, 0.15);\n",
              "      filter: drop-shadow(0px 1px 2px rgba(0, 0, 0, 0.3));\n",
              "      fill: #FFFFFF;\n",
              "    }\n",
              "  </style>\n",
              "\n",
              "    <script>\n",
              "      const buttonEl =\n",
              "        document.querySelector('#df-c4339461-e236-4f56-a40a-cef21e65a51e button.colab-df-convert');\n",
              "      buttonEl.style.display =\n",
              "        google.colab.kernel.accessAllowed ? 'block' : 'none';\n",
              "\n",
              "      async function convertToInteractive(key) {\n",
              "        const element = document.querySelector('#df-c4339461-e236-4f56-a40a-cef21e65a51e');\n",
              "        const dataTable =\n",
              "          await google.colab.kernel.invokeFunction('convertToInteractive',\n",
              "                                                    [key], {});\n",
              "        if (!dataTable) return;\n",
              "\n",
              "        const docLinkHtml = 'Like what you see? Visit the ' +\n",
              "          '<a target=\"_blank\" href=https://colab.research.google.com/notebooks/data_table.ipynb>data table notebook</a>'\n",
              "          + ' to learn more about interactive tables.';\n",
              "        element.innerHTML = '';\n",
              "        dataTable['output_type'] = 'display_data';\n",
              "        await google.colab.output.renderOutput(dataTable, element);\n",
              "        const docLink = document.createElement('div');\n",
              "        docLink.innerHTML = docLinkHtml;\n",
              "        element.appendChild(docLink);\n",
              "      }\n",
              "    </script>\n",
              "  </div>\n",
              "\n",
              "\n",
              "<div id=\"df-c2fd3b13-91d1-435a-a812-7bb31081ff82\">\n",
              "  <button class=\"colab-df-quickchart\" onclick=\"quickchart('df-c2fd3b13-91d1-435a-a812-7bb31081ff82')\"\n",
              "            title=\"Suggest charts\"\n",
              "            style=\"display:none;\">\n",
              "\n",
              "<svg xmlns=\"http://www.w3.org/2000/svg\" height=\"24px\"viewBox=\"0 0 24 24\"\n",
              "     width=\"24px\">\n",
              "    <g>\n",
              "        <path d=\"M19 3H5c-1.1 0-2 .9-2 2v14c0 1.1.9 2 2 2h14c1.1 0 2-.9 2-2V5c0-1.1-.9-2-2-2zM9 17H7v-7h2v7zm4 0h-2V7h2v10zm4 0h-2v-4h2v4z\"/>\n",
              "    </g>\n",
              "</svg>\n",
              "  </button>\n",
              "\n",
              "<style>\n",
              "  .colab-df-quickchart {\n",
              "      --bg-color: #E8F0FE;\n",
              "      --fill-color: #1967D2;\n",
              "      --hover-bg-color: #E2EBFA;\n",
              "      --hover-fill-color: #174EA6;\n",
              "      --disabled-fill-color: #AAA;\n",
              "      --disabled-bg-color: #DDD;\n",
              "  }\n",
              "\n",
              "  [theme=dark] .colab-df-quickchart {\n",
              "      --bg-color: #3B4455;\n",
              "      --fill-color: #D2E3FC;\n",
              "      --hover-bg-color: #434B5C;\n",
              "      --hover-fill-color: #FFFFFF;\n",
              "      --disabled-bg-color: #3B4455;\n",
              "      --disabled-fill-color: #666;\n",
              "  }\n",
              "\n",
              "  .colab-df-quickchart {\n",
              "    background-color: var(--bg-color);\n",
              "    border: none;\n",
              "    border-radius: 50%;\n",
              "    cursor: pointer;\n",
              "    display: none;\n",
              "    fill: var(--fill-color);\n",
              "    height: 32px;\n",
              "    padding: 0;\n",
              "    width: 32px;\n",
              "  }\n",
              "\n",
              "  .colab-df-quickchart:hover {\n",
              "    background-color: var(--hover-bg-color);\n",
              "    box-shadow: 0 1px 2px rgba(60, 64, 67, 0.3), 0 1px 3px 1px rgba(60, 64, 67, 0.15);\n",
              "    fill: var(--button-hover-fill-color);\n",
              "  }\n",
              "\n",
              "  .colab-df-quickchart-complete:disabled,\n",
              "  .colab-df-quickchart-complete:disabled:hover {\n",
              "    background-color: var(--disabled-bg-color);\n",
              "    fill: var(--disabled-fill-color);\n",
              "    box-shadow: none;\n",
              "  }\n",
              "\n",
              "  .colab-df-spinner {\n",
              "    border: 2px solid var(--fill-color);\n",
              "    border-color: transparent;\n",
              "    border-bottom-color: var(--fill-color);\n",
              "    animation:\n",
              "      spin 1s steps(1) infinite;\n",
              "  }\n",
              "\n",
              "  @keyframes spin {\n",
              "    0% {\n",
              "      border-color: transparent;\n",
              "      border-bottom-color: var(--fill-color);\n",
              "      border-left-color: var(--fill-color);\n",
              "    }\n",
              "    20% {\n",
              "      border-color: transparent;\n",
              "      border-left-color: var(--fill-color);\n",
              "      border-top-color: var(--fill-color);\n",
              "    }\n",
              "    30% {\n",
              "      border-color: transparent;\n",
              "      border-left-color: var(--fill-color);\n",
              "      border-top-color: var(--fill-color);\n",
              "      border-right-color: var(--fill-color);\n",
              "    }\n",
              "    40% {\n",
              "      border-color: transparent;\n",
              "      border-right-color: var(--fill-color);\n",
              "      border-top-color: var(--fill-color);\n",
              "    }\n",
              "    60% {\n",
              "      border-color: transparent;\n",
              "      border-right-color: var(--fill-color);\n",
              "    }\n",
              "    80% {\n",
              "      border-color: transparent;\n",
              "      border-right-color: var(--fill-color);\n",
              "      border-bottom-color: var(--fill-color);\n",
              "    }\n",
              "    90% {\n",
              "      border-color: transparent;\n",
              "      border-bottom-color: var(--fill-color);\n",
              "    }\n",
              "  }\n",
              "</style>\n",
              "\n",
              "  <script>\n",
              "    async function quickchart(key) {\n",
              "      const quickchartButtonEl =\n",
              "        document.querySelector('#' + key + ' button');\n",
              "      quickchartButtonEl.disabled = true;  // To prevent multiple clicks.\n",
              "      quickchartButtonEl.classList.add('colab-df-spinner');\n",
              "      try {\n",
              "        const charts = await google.colab.kernel.invokeFunction(\n",
              "            'suggestCharts', [key], {});\n",
              "      } catch (error) {\n",
              "        console.error('Error during call to suggestCharts:', error);\n",
              "      }\n",
              "      quickchartButtonEl.classList.remove('colab-df-spinner');\n",
              "      quickchartButtonEl.classList.add('colab-df-quickchart-complete');\n",
              "    }\n",
              "    (() => {\n",
              "      let quickchartButtonEl =\n",
              "        document.querySelector('#df-c2fd3b13-91d1-435a-a812-7bb31081ff82 button');\n",
              "      quickchartButtonEl.style.display =\n",
              "        google.colab.kernel.accessAllowed ? 'block' : 'none';\n",
              "    })();\n",
              "  </script>\n",
              "</div>\n",
              "    </div>\n",
              "  </div>\n"
            ],
            "application/vnd.google.colaboratory.intrinsic+json": {
              "type": "dataframe",
              "summary": "{\n  \"name\": \"X_train[[\\\"UserName\\\", \\\"ScreenName\\\"]]\",\n  \"rows\": 23410,\n  \"fields\": [\n    {\n      \"column\": \"UserName\",\n      \"properties\": {\n        \"dtype\": \"number\",\n        \"std\": 11880,\n        \"min\": 3800,\n        \"max\": 44953,\n        \"num_unique_values\": 23410,\n        \"samples\": [\n          22348,\n          35556,\n          33042\n        ],\n        \"semantic_type\": \"\",\n        \"description\": \"\"\n      }\n    },\n    {\n      \"column\": \"ScreenName\",\n      \"properties\": {\n        \"dtype\": \"number\",\n        \"std\": 11880,\n        \"min\": 48752,\n        \"max\": 89905,\n        \"num_unique_values\": 23410,\n        \"samples\": [\n          67300,\n          80508,\n          77994\n        ],\n        \"semantic_type\": \"\",\n        \"description\": \"\"\n      }\n    }\n  ]\n}"
            }
          },
          "metadata": {},
          "execution_count": 178
        }
      ],
      "source": [
        "X_train[[\"UserName\", \"ScreenName\"]]"
      ]
    },
    {
      "cell_type": "markdown",
      "metadata": {
        "id": "r8_qR-gnpT3a"
      },
      "source": [
        "**Ответ:** Обычно имена и id никак не влияют на данные, как например порядок независимого опроса исследуемых. Поэтому не буем добавлять их в анализ."
      ]
    },
    {
      "cell_type": "markdown",
      "metadata": {
        "id": "ythEcFSkt7y3"
      },
      "source": [
        "Изучите признак TweetAt в обучающей выборке: преобразуйте его к типу datetime и нарисуйте его гистограмму с разделением по цвету на оспнове целевой переменной. Полезен ли он? Если полезен, то закодируйте его, добавьте к матрице с отскалированными признаками, обучите логистическую регрессию, замерьте качество."
      ]
    },
    {
      "cell_type": "code",
      "source": [
        "X_train[['TweetAt']].head(5)"
      ],
      "metadata": {
        "id": "Lxb_k0JLirNv",
        "colab": {
          "base_uri": "https://localhost:8080/",
          "height": 206
        },
        "outputId": "f53e8036-6784-4574-b1cd-87886aa2b0df"
      },
      "execution_count": 180,
      "outputs": [
        {
          "output_type": "execute_result",
          "data": {
            "text/plain": [
              "          TweetAt\n",
              "25621  06-04-2020\n",
              "30135  10-04-2020\n",
              "28899  09-04-2020\n",
              "5989   19-03-2020\n",
              "4367   18-03-2020"
            ],
            "text/html": [
              "\n",
              "  <div id=\"df-29160a86-af33-475c-a827-dc3182e00ee2\" class=\"colab-df-container\">\n",
              "    <div>\n",
              "<style scoped>\n",
              "    .dataframe tbody tr th:only-of-type {\n",
              "        vertical-align: middle;\n",
              "    }\n",
              "\n",
              "    .dataframe tbody tr th {\n",
              "        vertical-align: top;\n",
              "    }\n",
              "\n",
              "    .dataframe thead th {\n",
              "        text-align: right;\n",
              "    }\n",
              "</style>\n",
              "<table border=\"1\" class=\"dataframe\">\n",
              "  <thead>\n",
              "    <tr style=\"text-align: right;\">\n",
              "      <th></th>\n",
              "      <th>TweetAt</th>\n",
              "    </tr>\n",
              "  </thead>\n",
              "  <tbody>\n",
              "    <tr>\n",
              "      <th>25621</th>\n",
              "      <td>06-04-2020</td>\n",
              "    </tr>\n",
              "    <tr>\n",
              "      <th>30135</th>\n",
              "      <td>10-04-2020</td>\n",
              "    </tr>\n",
              "    <tr>\n",
              "      <th>28899</th>\n",
              "      <td>09-04-2020</td>\n",
              "    </tr>\n",
              "    <tr>\n",
              "      <th>5989</th>\n",
              "      <td>19-03-2020</td>\n",
              "    </tr>\n",
              "    <tr>\n",
              "      <th>4367</th>\n",
              "      <td>18-03-2020</td>\n",
              "    </tr>\n",
              "  </tbody>\n",
              "</table>\n",
              "</div>\n",
              "    <div class=\"colab-df-buttons\">\n",
              "\n",
              "  <div class=\"colab-df-container\">\n",
              "    <button class=\"colab-df-convert\" onclick=\"convertToInteractive('df-29160a86-af33-475c-a827-dc3182e00ee2')\"\n",
              "            title=\"Convert this dataframe to an interactive table.\"\n",
              "            style=\"display:none;\">\n",
              "\n",
              "  <svg xmlns=\"http://www.w3.org/2000/svg\" height=\"24px\" viewBox=\"0 -960 960 960\">\n",
              "    <path d=\"M120-120v-720h720v720H120Zm60-500h600v-160H180v160Zm220 220h160v-160H400v160Zm0 220h160v-160H400v160ZM180-400h160v-160H180v160Zm440 0h160v-160H620v160ZM180-180h160v-160H180v160Zm440 0h160v-160H620v160Z\"/>\n",
              "  </svg>\n",
              "    </button>\n",
              "\n",
              "  <style>\n",
              "    .colab-df-container {\n",
              "      display:flex;\n",
              "      gap: 12px;\n",
              "    }\n",
              "\n",
              "    .colab-df-convert {\n",
              "      background-color: #E8F0FE;\n",
              "      border: none;\n",
              "      border-radius: 50%;\n",
              "      cursor: pointer;\n",
              "      display: none;\n",
              "      fill: #1967D2;\n",
              "      height: 32px;\n",
              "      padding: 0 0 0 0;\n",
              "      width: 32px;\n",
              "    }\n",
              "\n",
              "    .colab-df-convert:hover {\n",
              "      background-color: #E2EBFA;\n",
              "      box-shadow: 0px 1px 2px rgba(60, 64, 67, 0.3), 0px 1px 3px 1px rgba(60, 64, 67, 0.15);\n",
              "      fill: #174EA6;\n",
              "    }\n",
              "\n",
              "    .colab-df-buttons div {\n",
              "      margin-bottom: 4px;\n",
              "    }\n",
              "\n",
              "    [theme=dark] .colab-df-convert {\n",
              "      background-color: #3B4455;\n",
              "      fill: #D2E3FC;\n",
              "    }\n",
              "\n",
              "    [theme=dark] .colab-df-convert:hover {\n",
              "      background-color: #434B5C;\n",
              "      box-shadow: 0px 1px 3px 1px rgba(0, 0, 0, 0.15);\n",
              "      filter: drop-shadow(0px 1px 2px rgba(0, 0, 0, 0.3));\n",
              "      fill: #FFFFFF;\n",
              "    }\n",
              "  </style>\n",
              "\n",
              "    <script>\n",
              "      const buttonEl =\n",
              "        document.querySelector('#df-29160a86-af33-475c-a827-dc3182e00ee2 button.colab-df-convert');\n",
              "      buttonEl.style.display =\n",
              "        google.colab.kernel.accessAllowed ? 'block' : 'none';\n",
              "\n",
              "      async function convertToInteractive(key) {\n",
              "        const element = document.querySelector('#df-29160a86-af33-475c-a827-dc3182e00ee2');\n",
              "        const dataTable =\n",
              "          await google.colab.kernel.invokeFunction('convertToInteractive',\n",
              "                                                    [key], {});\n",
              "        if (!dataTable) return;\n",
              "\n",
              "        const docLinkHtml = 'Like what you see? Visit the ' +\n",
              "          '<a target=\"_blank\" href=https://colab.research.google.com/notebooks/data_table.ipynb>data table notebook</a>'\n",
              "          + ' to learn more about interactive tables.';\n",
              "        element.innerHTML = '';\n",
              "        dataTable['output_type'] = 'display_data';\n",
              "        await google.colab.output.renderOutput(dataTable, element);\n",
              "        const docLink = document.createElement('div');\n",
              "        docLink.innerHTML = docLinkHtml;\n",
              "        element.appendChild(docLink);\n",
              "      }\n",
              "    </script>\n",
              "  </div>\n",
              "\n",
              "\n",
              "<div id=\"df-9675208e-ecc6-4455-96af-cb0e899d170d\">\n",
              "  <button class=\"colab-df-quickchart\" onclick=\"quickchart('df-9675208e-ecc6-4455-96af-cb0e899d170d')\"\n",
              "            title=\"Suggest charts\"\n",
              "            style=\"display:none;\">\n",
              "\n",
              "<svg xmlns=\"http://www.w3.org/2000/svg\" height=\"24px\"viewBox=\"0 0 24 24\"\n",
              "     width=\"24px\">\n",
              "    <g>\n",
              "        <path d=\"M19 3H5c-1.1 0-2 .9-2 2v14c0 1.1.9 2 2 2h14c1.1 0 2-.9 2-2V5c0-1.1-.9-2-2-2zM9 17H7v-7h2v7zm4 0h-2V7h2v10zm4 0h-2v-4h2v4z\"/>\n",
              "    </g>\n",
              "</svg>\n",
              "  </button>\n",
              "\n",
              "<style>\n",
              "  .colab-df-quickchart {\n",
              "      --bg-color: #E8F0FE;\n",
              "      --fill-color: #1967D2;\n",
              "      --hover-bg-color: #E2EBFA;\n",
              "      --hover-fill-color: #174EA6;\n",
              "      --disabled-fill-color: #AAA;\n",
              "      --disabled-bg-color: #DDD;\n",
              "  }\n",
              "\n",
              "  [theme=dark] .colab-df-quickchart {\n",
              "      --bg-color: #3B4455;\n",
              "      --fill-color: #D2E3FC;\n",
              "      --hover-bg-color: #434B5C;\n",
              "      --hover-fill-color: #FFFFFF;\n",
              "      --disabled-bg-color: #3B4455;\n",
              "      --disabled-fill-color: #666;\n",
              "  }\n",
              "\n",
              "  .colab-df-quickchart {\n",
              "    background-color: var(--bg-color);\n",
              "    border: none;\n",
              "    border-radius: 50%;\n",
              "    cursor: pointer;\n",
              "    display: none;\n",
              "    fill: var(--fill-color);\n",
              "    height: 32px;\n",
              "    padding: 0;\n",
              "    width: 32px;\n",
              "  }\n",
              "\n",
              "  .colab-df-quickchart:hover {\n",
              "    background-color: var(--hover-bg-color);\n",
              "    box-shadow: 0 1px 2px rgba(60, 64, 67, 0.3), 0 1px 3px 1px rgba(60, 64, 67, 0.15);\n",
              "    fill: var(--button-hover-fill-color);\n",
              "  }\n",
              "\n",
              "  .colab-df-quickchart-complete:disabled,\n",
              "  .colab-df-quickchart-complete:disabled:hover {\n",
              "    background-color: var(--disabled-bg-color);\n",
              "    fill: var(--disabled-fill-color);\n",
              "    box-shadow: none;\n",
              "  }\n",
              "\n",
              "  .colab-df-spinner {\n",
              "    border: 2px solid var(--fill-color);\n",
              "    border-color: transparent;\n",
              "    border-bottom-color: var(--fill-color);\n",
              "    animation:\n",
              "      spin 1s steps(1) infinite;\n",
              "  }\n",
              "\n",
              "  @keyframes spin {\n",
              "    0% {\n",
              "      border-color: transparent;\n",
              "      border-bottom-color: var(--fill-color);\n",
              "      border-left-color: var(--fill-color);\n",
              "    }\n",
              "    20% {\n",
              "      border-color: transparent;\n",
              "      border-left-color: var(--fill-color);\n",
              "      border-top-color: var(--fill-color);\n",
              "    }\n",
              "    30% {\n",
              "      border-color: transparent;\n",
              "      border-left-color: var(--fill-color);\n",
              "      border-top-color: var(--fill-color);\n",
              "      border-right-color: var(--fill-color);\n",
              "    }\n",
              "    40% {\n",
              "      border-color: transparent;\n",
              "      border-right-color: var(--fill-color);\n",
              "      border-top-color: var(--fill-color);\n",
              "    }\n",
              "    60% {\n",
              "      border-color: transparent;\n",
              "      border-right-color: var(--fill-color);\n",
              "    }\n",
              "    80% {\n",
              "      border-color: transparent;\n",
              "      border-right-color: var(--fill-color);\n",
              "      border-bottom-color: var(--fill-color);\n",
              "    }\n",
              "    90% {\n",
              "      border-color: transparent;\n",
              "      border-bottom-color: var(--fill-color);\n",
              "    }\n",
              "  }\n",
              "</style>\n",
              "\n",
              "  <script>\n",
              "    async function quickchart(key) {\n",
              "      const quickchartButtonEl =\n",
              "        document.querySelector('#' + key + ' button');\n",
              "      quickchartButtonEl.disabled = true;  // To prevent multiple clicks.\n",
              "      quickchartButtonEl.classList.add('colab-df-spinner');\n",
              "      try {\n",
              "        const charts = await google.colab.kernel.invokeFunction(\n",
              "            'suggestCharts', [key], {});\n",
              "      } catch (error) {\n",
              "        console.error('Error during call to suggestCharts:', error);\n",
              "      }\n",
              "      quickchartButtonEl.classList.remove('colab-df-spinner');\n",
              "      quickchartButtonEl.classList.add('colab-df-quickchart-complete');\n",
              "    }\n",
              "    (() => {\n",
              "      let quickchartButtonEl =\n",
              "        document.querySelector('#df-9675208e-ecc6-4455-96af-cb0e899d170d button');\n",
              "      quickchartButtonEl.style.display =\n",
              "        google.colab.kernel.accessAllowed ? 'block' : 'none';\n",
              "    })();\n",
              "  </script>\n",
              "</div>\n",
              "    </div>\n",
              "  </div>\n"
            ],
            "application/vnd.google.colaboratory.intrinsic+json": {
              "type": "dataframe",
              "summary": "{\n  \"name\": \"X_train[['TweetAt']]\",\n  \"rows\": 5,\n  \"fields\": [\n    {\n      \"column\": \"TweetAt\",\n      \"properties\": {\n        \"dtype\": \"string\",\n        \"num_unique_values\": 5,\n        \"samples\": [\n          \"10-04-2020\",\n          \"18-03-2020\",\n          \"09-04-2020\"\n        ],\n        \"semantic_type\": \"\",\n        \"description\": \"\"\n      }\n    }\n  ]\n}"
            }
          },
          "metadata": {},
          "execution_count": 180
        }
      ]
    },
    {
      "cell_type": "code",
      "source": [
        "X_train['TweetAt'] = pd.to_datetime(X_train['TweetAt'], format=\"%d-%m-%Y\")\n",
        "\n",
        "plt.hist([df[df['Sentiment'] == 0]['TweetAt'], df[df['Sentiment'] == 1]['TweetAt']], bins=40, label=['Отрицательные', 'Положительные'])\n",
        "plt.legend()\n",
        "plt.xticks(rotation='vertical')\n",
        "plt.xlabel('Дата')\n",
        "plt.ylabel('Колличество твиттов')"
      ],
      "metadata": {
        "id": "0yeyluRooI58",
        "outputId": "d9cfb8f8-222f-4a78-bd4d-9630ad341741",
        "colab": {
          "base_uri": "https://localhost:8080/",
          "height": 533
        }
      },
      "execution_count": 188,
      "outputs": [
        {
          "output_type": "execute_result",
          "data": {
            "text/plain": [
              "Text(0, 0.5, 'Колличество твиттов')"
            ]
          },
          "metadata": {},
          "execution_count": 188
        },
        {
          "output_type": "display_data",
          "data": {
            "text/plain": [
              "<Figure size 640x480 with 1 Axes>"
            ],
            "image/png": "[encoded data removed]"
          },
          "metadata": {}
        }
      ]
    },
    {
      "cell_type": "markdown",
      "metadata": {
        "id": "4IdLBdpQxM-G"
      },
      "source": [
        "**Ответ:** В разные пириоды времени положительных и отрицательных твиттов одинаково.\n",
        "\n"
      ]
    },
    {
      "cell_type": "markdown",
      "source": [
        "Поработайте с признаком Location в обучающей выборке. Сколько уникальных значений?"
      ],
      "metadata": {
        "id": "r2JtRPhNP6qx"
      }
    },
    {
      "cell_type": "code",
      "source": [
        "df['Location'].nunique()"
      ],
      "metadata": {
        "id": "xYQZQ1FRNpoe",
        "colab": {
          "base_uri": "https://localhost:8080/"
        },
        "outputId": "49685ed1-562e-4221-9ebb-ec2b9e5ea2f1"
      },
      "execution_count": 189,
      "outputs": [
        {
          "output_type": "execute_result",
          "data": {
            "text/plain": [
              "10465"
            ]
          },
          "metadata": {},
          "execution_count": 189
        }
      ]
    },
    {
      "cell_type": "markdown",
      "source": [
        "Постройте гистограмму топ-10 по популярности местоположений (исключая Unknown)"
      ],
      "metadata": {
        "id": "6k4JwpRTQISa"
      }
    },
    {
      "cell_type": "code",
      "source": [
        "loc = df[df['Location'] != 'Unknown']['Location']\n",
        "loc.value_counts()[:10].plot(kind='bar')"
      ],
      "metadata": {
        "id": "J91YkhegJ0mz",
        "colab": {
          "base_uri": "https://localhost:8080/",
          "height": 570
        },
        "outputId": "0923fda9-373d-48d4-b362-9faa8e21daa1"
      },
      "execution_count": 207,
      "outputs": [
        {
          "output_type": "execute_result",
          "data": {
            "text/plain": [
              "<Axes: xlabel='Location'>"
            ]
          },
          "metadata": {},
          "execution_count": 207
        },
        {
          "output_type": "display_data",
          "data": {
            "text/plain": [
              "<Figure size 640x480 with 1 Axes>"
            ],
            "image/png": "[encoded data removed]"
          },
          "metadata": {}
        }
      ]
    },
    {
      "cell_type": "markdown",
      "source": [
        "Видно, что многие местоположения включают в себя более точное название места, чем другие (Например, у некоторых стоит London, UK; а у некоторых просто UK или United Kingdom).\n",
        "\n",
        "Создайте новый признак WiderLocation, который содержит самое широкое местоположение (например, из London, UK должно получиться UK). Сколько уникальных категорий теперь? Постройте аналогичную гистограмму."
      ],
      "metadata": {
        "id": "ZOsv3lODTfYB"
      }
    },
    {
      "cell_type": "code",
      "source": [
        "df['WiderLocation'] = df['Location'].apply(lambda x: x.split(\",\")[-1].strip())"
      ],
      "metadata": {
        "id": "mSkow6acOMyD"
      },
      "execution_count": 209,
      "outputs": []
    },
    {
      "cell_type": "code",
      "source": [
        "Widerloc = df[df['WiderLocation'] != 'Unknown']['WiderLocation']\n",
        "Widerloc.value_counts()[:10].plot(kind='bar')\n",
        "df['WiderLocation'].nunique()"
      ],
      "metadata": {
        "id": "SeJBfBWgPvg_",
        "colab": {
          "base_uri": "https://localhost:8080/",
          "height": 565
        },
        "outputId": "7ba83eed-b11a-42d4-f9e5-eec463a77793"
      },
      "execution_count": 211,
      "outputs": [
        {
          "output_type": "execute_result",
          "data": {
            "text/plain": [
              "6118"
            ]
          },
          "metadata": {},
          "execution_count": 211
        },
        {
          "output_type": "display_data",
          "data": {
            "text/plain": [
              "<Figure size 640x480 with 1 Axes>"
            ],
            "image/png": "[encoded data removed]"
          },
          "metadata": {}
        }
      ]
    },
    {
      "cell_type": "markdown",
      "source": [
        "Закодируйте признак WiderLocation с помощью OHE таким образом, чтобы создались только столбцы для местоположений, которые встречаются более одного раза. Сколько таких значений?\n"
      ],
      "metadata": {
        "id": "cgyWrD2eVfff"
      }
    },
    {
      "cell_type": "code",
      "source": [
        "location = df['WiderLocation'].value_counts()[df['WiderLocation'].value_counts() > 1].index.tolist()\n",
        "encoded_data = pd.get_dummies(df['WiderLocation'])\n",
        "columns_to_drop = [col for col in encoded_data.columns if col not in location]\n",
        "encoded_data = encoded_data.drop(columns=columns_to_drop)"
      ],
      "metadata": {
        "id": "ixXNdifEt_R7"
      },
      "execution_count": 214,
      "outputs": []
    },
    {
      "cell_type": "markdown",
      "source": [
        "Добавьте этот признак к матрице отскалированных текстовых признаков, обучите логистическую регрессию, замерьте качество. Как оно изменилось? Оказался ли признак полезным?\n",
        "\n",
        "\n",
        "*Подсказка:* используйте параметр `categories` в энкодере."
      ],
      "metadata": {
        "id": "ZyMX5kZuimPK"
      }
    },
    {
      "cell_type": "code",
      "source": [
        "X_train, X_test, y_train, y_test = train_test_split(df.drop(['Sentiment'], axis=1), df[\"Sentiment\"], test_size=0.3, random_state=0)\n",
        "\n",
        "X_train_cv = cv_df.transform(X_train['OriginalTweet'])\n",
        "X_test_cv = cv_df.transform(X_test['OriginalTweet'])\n",
        "\n",
        "X_train_sc = scaler.fit_transform(X_train_cv.toarray())\n",
        "X_test_sc = scaler.transform(X_test_cv.toarray())\n",
        "\n",
        "Train = pd.DataFrame(X_train_sc)\n",
        "Test = pd.DataFrame(X_test_sc)\n",
        "\n"
      ],
      "metadata": {
        "id": "EO1jNPeeim7A"
      },
      "execution_count": 215,
      "outputs": []
    },
    {
      "cell_type": "code",
      "source": [
        "lr_cv = LogisticRegression()\n",
        "lr_cv.fit(Train, y_train)\n",
        "\n",
        "lr_cv = LogisticRegression()\n",
        "lr_cv.fit(X_train_sc, y_train)\n",
        "\n",
        "\n",
        "predict_cv_train = lr_cv.predict(X_train_cv)\n",
        "predict_cv_test = lr_cv.predict(X_test_cv)\n",
        "accuracy_cv_train = accuracy_score(y_train, predict_cv_train)\n",
        "accuracy_cv_test = accuracy_score(y_test, predict_cv_test)\n",
        "\n",
        "print('arruracy cv train:', accuracy_cv_train)\n",
        "print('arruracy cv test:', accuracy_cv_test)"
      ],
      "metadata": {
        "id": "Yiic0hrqu-kX",
        "outputId": "24350b09-832b-4000-cfea-31f75e34b219",
        "colab": {
          "base_uri": "https://localhost:8080/"
        }
      },
      "execution_count": 217,
      "outputs": [
        {
          "output_type": "stream",
          "name": "stderr",
          "text": [
            "/usr/local/lib/python3.10/dist-packages/sklearn/linear_model/_logistic.py:458: ConvergenceWarning: lbfgs failed to converge (status=1):\n",
            "STOP: TOTAL NO. of ITERATIONS REACHED LIMIT.\n",
            "\n",
            "Increase the number of iterations (max_iter) or scale the data as shown in:\n",
            "    https://scikit-learn.org/stable/modules/preprocessing.html\n",
            "Please also refer to the documentation for alternative solver options:\n",
            "    https://scikit-learn.org/stable/modules/linear_model.html#logistic-regression\n",
            "  n_iter_i = _check_optimize_result(\n"
          ]
        },
        {
          "output_type": "stream",
          "name": "stdout",
          "text": [
            "arruracy cv train: 0.7354976505766766\n",
            "arruracy cv test: 0.7312138728323699\n"
          ]
        },
        {
          "output_type": "stream",
          "name": "stderr",
          "text": [
            "/usr/local/lib/python3.10/dist-packages/sklearn/linear_model/_logistic.py:458: ConvergenceWarning: lbfgs failed to converge (status=1):\n",
            "STOP: TOTAL NO. of ITERATIONS REACHED LIMIT.\n",
            "\n",
            "Increase the number of iterations (max_iter) or scale the data as shown in:\n",
            "    https://scikit-learn.org/stable/modules/preprocessing.html\n",
            "Please also refer to the documentation for alternative solver options:\n",
            "    https://scikit-learn.org/stable/modules/linear_model.html#logistic-regression\n",
            "  n_iter_i = _check_optimize_result(\n"
          ]
        }
      ]
    },
    {
      "cell_type": "markdown",
      "source": [
        "## Задание 8 Хорошее качество (Бонус 1 балл)"
      ],
      "metadata": {
        "id": "IWn6h4W9eD3S"
      }
    },
    {
      "cell_type": "markdown",
      "source": [
        "Добейтесь accuracy=0.9 на тестовой выборке (можно сменить токенайзер, векторайзер, модель и т.д.)"
      ],
      "metadata": {
        "id": "-HDI0SU6eLgi"
      }
    },
    {
      "cell_type": "code",
      "source": [
        "# -- YOUR CODE HERE --"
      ],
      "metadata": {
        "id": "k3WMbE8edhlW"
      },
      "execution_count": null,
      "outputs": []
    }
  ],
  "metadata": {
    "colab": {
      "provenance": []
    },
    "kernelspec": {
      "display_name": "Python 3",
      "name": "python3"
    },
    "language_info": {
      "name": "python"
    }
  },
  "nbformat": 4,
  "nbformat_minor": 0
}